{
 "cells": [
  {
   "cell_type": "code",
   "execution_count": 3,
   "metadata": {},
   "outputs": [],
   "source": [
    "import numpy as np"
   ]
  },
  {
   "cell_type": "code",
   "execution_count": 4,
   "metadata": {},
   "outputs": [],
   "source": [
    "def calculate_mse(e):\n",
    "    \"\"\"Calculate the mse for vector e.\"\"\"\n",
    "    return 1/2*np.mean(e**2)\n",
    "\n",
    "\n",
    "def calculate_mae(e):\n",
    "    \"\"\"Calculate the mae for vector e.\"\"\"\n",
    "    return np.mean(np.abs(e))\n",
    "\n",
    "\n",
    "def compute_loss(y, tx, w):\n",
    "    \"\"\"Calculate the loss.\n",
    "\n",
    "    You can calculate the loss using mse or mae.\n",
    "    \"\"\"\n",
    "    e = y - tx.dot(w)\n",
    "    return calculate_mse(e)\n",
    "\n",
    "def compute_gradient(y,tx,w):\n",
    "    e = y - tx.dot(w)\n",
    "    return -tx.T.dot(e)/len(tx)"
   ]
  },
  {
   "cell_type": "code",
   "execution_count": 5,
   "metadata": {},
   "outputs": [],
   "source": [
    "def least_squares_GD(y,tx,initial_w,max_iters,gamma):\n",
    "    \"\"\"\n",
    "    \n",
    "    \"\"\"\n",
    "    loss = 100000\n",
    "    w = initial_w\n",
    "    for i in range(max_iters):\n",
    "        # compute \n",
    "        loss = compute_loss(y,tx,w)\n",
    "        grad = compute_gradient(y,tx,w)\n",
    "        w = w - gamma * grad\n",
    "        \n",
    "    ## we only care about the final result which will be the most precise\n",
    "    return w,loss"
   ]
  },
  {
   "cell_type": "code",
   "execution_count": 6,
   "metadata": {},
   "outputs": [],
   "source": [
    "def least_squares_SGD(y,tx,initial_w,max_iters,gamma):\n",
    "    \n",
    "    w = initial_w\n",
    "    loss = 10000\n",
    "    for i in range(max_iters):\n",
    "        # take one random sampling point\n",
    "        n = np.random.choice(len(tx),1)\n",
    "        xn = tx[n]\n",
    "        yn = y[n]\n",
    "        loss = compute_loss(y,tx,w)\n",
    "        grad = compute_gradient(yn,xn,w)\n",
    "        w = w - gamma * grad\n",
    "        \n",
    "    return w , loss\n",
    "        "
   ]
  },
  {
   "cell_type": "code",
   "execution_count": 7,
   "metadata": {},
   "outputs": [],
   "source": [
    "def least_squares(y,tx):\n",
    "    \n",
    "    w = np.linalg.lstsq(tx,y,rcond=None)[0]\n",
    "    loss = compute_loss(y,tx,w)\n",
    "    return w , loss\n",
    "    "
   ]
  },
  {
   "cell_type": "code",
   "execution_count": 10,
   "metadata": {
    "scrolled": true
   },
   "outputs": [
    {
     "data": {
      "text/plain": [
       "(array([-1.94117647,  1.24632353, -0.04779412]), 0.7512254901960783)"
      ]
     },
     "execution_count": 10,
     "metadata": {},
     "output_type": "execute_result"
    }
   ],
   "source": [
    "tx = np.array([[1,1,1],[1,5,2],[1,6,3],[1,4,5],[1,5,8],[1,6,2]])\n",
    "y =  np.array([0,3,5,1,5,7])\n",
    "least_squares(y,tx)#,least_squares_GD(y,tx,[1,1],50,0.1), least_squares_SGD(y,tx,[1,1],50,0.01)"
   ]
  },
  {
   "cell_type": "code",
   "execution_count": 85,
   "metadata": {},
   "outputs": [
    {
     "data": {
      "text/plain": [
       "(array([0.1344249 , 0.93086719]), 1.3576077637838795)"
      ]
     },
     "execution_count": 85,
     "metadata": {},
     "output_type": "execute_result"
    }
   ],
   "source": [
    "def ridge_regression(y,tx,lambda_):\n",
    "    ## l is mse \n",
    "    ## we want (xtx + lambda*2N * I )^-1* xTy\n",
    "    xty = tx.T.dot(y)\n",
    "    xtx = tx.T.dot(tx)\n",
    "    lambdaI = lambda_*2*len(y) * np.identity(tx.shape[1])\n",
    "    w = np.linalg.inv(xtx + lambdaI).dot(xty)\n",
    "    loss = compute_loss(y,tx,w)\n",
    "    return w, loss\n",
    "    \n",
    "ridge_regression(y,tx,0.4)"
   ]
  },
  {
   "cell_type": "code",
   "execution_count": null,
   "metadata": {},
   "outputs": [],
   "source": [
    "def logistic_regression(y,tx,initial_w,max_iters,gamma):\n",
    "    "
   ]
  },
  {
   "cell_type": "code",
   "execution_count": null,
   "metadata": {},
   "outputs": [],
   "source": []
  }
 ],
 "metadata": {
  "kernelspec": {
   "display_name": "Python 3",
   "language": "python",
   "name": "python3"
  },
  "language_info": {
   "codemirror_mode": {
    "name": "ipython",
    "version": 3
   },
   "file_extension": ".py",
   "mimetype": "text/x-python",
   "name": "python",
   "nbconvert_exporter": "python",
   "pygments_lexer": "ipython3",
   "version": "3.6.6"
  }
 },
 "nbformat": 4,
 "nbformat_minor": 2
}
