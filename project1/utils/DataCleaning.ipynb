{
 "cells": [
  {
   "cell_type": "code",
   "execution_count": 4,
   "metadata": {
    "collapsed": true
   },
   "outputs": [],
   "source": [
    "import numpy as np\n",
    "from proj1_helpers import *"
   ]
  },
  {
   "cell_type": "code",
   "execution_count": 8,
   "metadata": {
    "collapsed": true
   },
   "outputs": [],
   "source": [
    "DATA_DIR = \"../../../MLData2018/\""
   ]
  },
  {
   "cell_type": "code",
   "execution_count": 9,
   "metadata": {},
   "outputs": [],
   "source": [
    "data = load_csv_data(DATA_DIR+\"train.csv\")"
   ]
  },
  {
   "cell_type": "code",
   "execution_count": 10,
   "metadata": {},
   "outputs": [
    {
     "data": {
      "text/plain": [
       "(array([ 1., -1., -1., ...,  1., -1., -1.]),\n",
       " array([[ 138.47 ,   51.655,   97.827, ...,    1.24 ,   -2.475,  113.497],\n",
       "        [ 160.937,   68.768,  103.235, ..., -999.   , -999.   ,   46.226],\n",
       "        [-999.   ,  162.172,  125.953, ..., -999.   , -999.   ,   44.251],\n",
       "        ..., \n",
       "        [ 105.457,   60.526,   75.839, ..., -999.   , -999.   ,   41.992],\n",
       "        [  94.951,   19.362,   68.812, ..., -999.   , -999.   ,    0.   ],\n",
       "        [-999.   ,   72.756,   70.831, ..., -999.   , -999.   ,    0.   ]]),\n",
       " array([100000, 100001, 100002, ..., 349997, 349998, 349999]))"
      ]
     },
     "execution_count": 10,
     "metadata": {},
     "output_type": "execute_result"
    }
   ],
   "source": [
    "data"
   ]
  },
  {
   "cell_type": "code",
   "execution_count": 81,
   "metadata": {},
   "outputs": [
    {
     "data": {
      "text/plain": [
       "array([[  1.38470000e+02,   5.16550000e+01,   9.78270000e+01, ...,\n",
       "          1.24000000e+00,  -2.47500000e+00,   1.13497000e+02],\n",
       "       [  1.60937000e+02,   6.87680000e+01,   1.03235000e+02, ...,\n",
       "         -1.18452642e-02,  -1.58228913e-03,   4.62260000e+01],\n",
       "       [  1.21858528e+02,   1.62172000e+02,   1.25953000e+02, ...,\n",
       "         -1.18452642e-02,  -1.58228913e-03,   4.42510000e+01],\n",
       "       ..., \n",
       "       [  1.05457000e+02,   6.05260000e+01,   7.58390000e+01, ...,\n",
       "         -1.18452642e-02,  -1.58228913e-03,   4.19920000e+01],\n",
       "       [  9.49510000e+01,   1.93620000e+01,   6.88120000e+01, ...,\n",
       "         -1.18452642e-02,  -1.58228913e-03,   0.00000000e+00],\n",
       "       [  1.21858528e+02,   7.27560000e+01,   7.08310000e+01, ...,\n",
       "         -1.18452642e-02,  -1.58228913e-03,   0.00000000e+00]])"
      ]
     },
     "execution_count": 81,
     "metadata": {},
     "output_type": "execute_result"
    }
   ],
   "source": [
    "dx = data[1]\n",
    "dx"
   ]
  },
  {
   "cell_type": "code",
   "execution_count": 59,
   "metadata": {
    "collapsed": true
   },
   "outputs": [],
   "source": [
    "def column_replace_invalid_by_mean(col):\n",
    "    mean = np.mean(col[col != -999])\n",
    "    col[col == -999] = mean\n",
    "    return col"
   ]
  },
  {
   "cell_type": "code",
   "execution_count": 82,
   "metadata": {
    "collapsed": true
   },
   "outputs": [],
   "source": [
    "def fill_unknown_with_column_mean(dx):\n",
    "    d = dx.transpose()\n",
    "    for i in range(len(d)):\n",
    "        col = d[i]\n",
    "        d[i] = column_replace_invalid_by_mean(col)\n",
    "    return d.transpose()\n",
    "        "
   ]
  },
  {
   "cell_type": "code",
   "execution_count": 85,
   "metadata": {},
   "outputs": [],
   "source": [
    "dx = fill_unknown_with_column_mean(dx)"
   ]
  },
  {
   "cell_type": "code",
   "execution_count": 86,
   "metadata": {
    "collapsed": true
   },
   "outputs": [],
   "source": [
    "def standardize(dx):\n",
    "    d = dx.transpose()\n",
    "    for i in range(len(d)):\n",
    "        mean = d[i].mean()\n",
    "        std = d[i].std()\n",
    "        d[i] = (d[i] - mean) / std\n",
    "    return d.transpose()"
   ]
  },
  {
   "cell_type": "code",
   "execution_count": 95,
   "metadata": {},
   "outputs": [],
   "source": [
    "dx = standardize(dx)"
   ]
  },
  {
   "cell_type": "code",
   "execution_count": null,
   "metadata": {
    "collapsed": true
   },
   "outputs": [],
   "source": []
  }
 ],
 "metadata": {
  "kernelspec": {
   "display_name": "Python 3",
   "language": "python",
   "name": "python3"
  },
  "language_info": {
   "codemirror_mode": {
    "name": "ipython",
    "version": 3
   },
   "file_extension": ".py",
   "mimetype": "text/x-python",
   "name": "python",
   "nbconvert_exporter": "python",
   "pygments_lexer": "ipython3",
   "version": "3.6.3"
  }
 },
 "nbformat": 4,
 "nbformat_minor": 2
}
