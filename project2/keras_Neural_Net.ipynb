{
 "cells": [
  {
   "cell_type": "code",
   "execution_count": 1,
   "metadata": {},
   "outputs": [
    {
     "name": "stderr",
     "output_type": "stream",
     "text": [
      "Using TensorFlow backend.\n"
     ]
    }
   ],
   "source": [
    "import pandas as pd\n",
    "import numpy as np\n",
    "import matplotlib.pyplot as plt\n",
    "\n",
    "import warnings\n",
    "warnings.filterwarnings('ignore')\n",
    "\n",
    "import keras\n",
    "from IPython.display import SVG\n",
    "from keras.optimizers import Adam, SGD\n",
    "from keras.utils.vis_utils import model_to_dot\n",
    "\n",
    "%matplotlib inline"
   ]
  },
  {
   "cell_type": "code",
   "execution_count": 2,
   "metadata": {},
   "outputs": [],
   "source": [
    "DATAPATH = \"data/\""
   ]
  },
  {
   "cell_type": "code",
   "execution_count": 3,
   "metadata": {},
   "outputs": [
    {
     "data": {
      "text/html": [
       "<div>\n",
       "<style>\n",
       "    .dataframe thead tr:only-child th {\n",
       "        text-align: right;\n",
       "    }\n",
       "\n",
       "    .dataframe thead th {\n",
       "        text-align: left;\n",
       "    }\n",
       "\n",
       "    .dataframe tbody tr th {\n",
       "        vertical-align: top;\n",
       "    }\n",
       "</style>\n",
       "<table border=\"1\" class=\"dataframe\">\n",
       "  <thead>\n",
       "    <tr style=\"text-align: right;\">\n",
       "      <th></th>\n",
       "      <th>user_id</th>\n",
       "      <th>movie_id</th>\n",
       "      <th>prediction</th>\n",
       "    </tr>\n",
       "  </thead>\n",
       "  <tbody>\n",
       "    <tr>\n",
       "      <th>0</th>\n",
       "      <td>43</td>\n",
       "      <td>0</td>\n",
       "      <td>4</td>\n",
       "    </tr>\n",
       "    <tr>\n",
       "      <th>1</th>\n",
       "      <td>60</td>\n",
       "      <td>0</td>\n",
       "      <td>3</td>\n",
       "    </tr>\n",
       "    <tr>\n",
       "      <th>2</th>\n",
       "      <td>66</td>\n",
       "      <td>0</td>\n",
       "      <td>4</td>\n",
       "    </tr>\n",
       "    <tr>\n",
       "      <th>3</th>\n",
       "      <td>71</td>\n",
       "      <td>0</td>\n",
       "      <td>3</td>\n",
       "    </tr>\n",
       "    <tr>\n",
       "      <th>4</th>\n",
       "      <td>85</td>\n",
       "      <td>0</td>\n",
       "      <td>5</td>\n",
       "    </tr>\n",
       "  </tbody>\n",
       "</table>\n",
       "</div>"
      ],
      "text/plain": [
       "   user_id  movie_id  prediction\n",
       "0       43         0           4\n",
       "1       60         0           3\n",
       "2       66         0           4\n",
       "3       71         0           3\n",
       "4       85         0           5"
      ]
     },
     "execution_count": 3,
     "metadata": {},
     "output_type": "execute_result"
    }
   ],
   "source": [
    "dataset = pd.read_csv(DATAPATH+\"cleaned_data_train.csv\", names=\"user_id,movie_id,prediction\".split(','))\n",
    "dataset['user_id'] = dataset['user_id']-1\n",
    "dataset['movie_id'] = dataset['movie_id']-1\n",
    "dataset.head()"
   ]
  },
  {
   "cell_type": "code",
   "execution_count": 4,
   "metadata": {
    "collapsed": true
   },
   "outputs": [],
   "source": [
    "from sklearn.model_selection import train_test_split\n",
    "train, test = train_test_split(dataset, test_size=0.1)"
   ]
  },
  {
   "cell_type": "code",
   "execution_count": 5,
   "metadata": {
    "collapsed": true
   },
   "outputs": [],
   "source": [
    "n_users, n_movies = len(dataset.user_id.unique()), len(dataset.movie_id.unique())"
   ]
  },
  {
   "cell_type": "code",
   "execution_count": 8,
   "metadata": {},
   "outputs": [],
   "source": [
    "n_latent_factors_user = 5\n",
    "n_latent_factors_movie = 8\n",
    "\n",
    "movie_input = keras.layers.Input(shape=[1],name='Item')\n",
    "movie_embedding = keras.layers.Embedding(n_movies + 1, n_latent_factors_movie, name='Movie-Embedding')(movie_input)\n",
    "movie_vec = keras.layers.Flatten(name='FlattenMovies')(movie_embedding)\n",
    "movie_vec = keras.layers.Dropout(0.2)(movie_vec)\n",
    "\n",
    "\n",
    "user_input = keras.layers.Input(shape=[1],name='User')\n",
    "user_vec = keras.layers.Flatten(name='FlattenUsers')(keras.layers.Embedding(n_users + 1, n_latent_factors_user,name='User-Embedding')(user_input))\n",
    "user_vec = keras.layers.Dropout(0.2)(user_vec)\n",
    "\n",
    "\n",
    "concat = keras.layers.concatenate([movie_vec, user_vec], name=\"Concat\")\n",
    "concat_dropout = keras.layers.Dropout(0.2)(concat)\n",
    "\n",
    "dense = keras.layers.Dense(300, name='FullyConnected')(concat)\n",
    "dense = keras.layers.Dropout(0.2,name='Dropout_1')(dense)\n",
    "dense_2 = keras.layers.Dense(150,name='FullyConnected-1')(dense)\n",
    "dense_2 = keras.layers.Dropout(0.2,name='Dropout_2')(dense_2)\n",
    "dense_3 = keras.layers.Dense(75,name='FullyConnected-2')(dense_2)\n",
    "dense_3 = keras.layers.Dropout(0.2,name='Dropout_3')(dense_3)\n",
    "\n",
    "\n",
    "result = keras.layers.Dense(1, activation='relu',name='Activation')(dense_3)\n",
    "sgd = SGD(lr=0.05)\n",
    "model = keras.Model([user_input, movie_input], result)\n",
    "model.compile(optimizer=sgd,loss= 'mean_squared_error')\n",
    "\n"
   ]
  },
  {
   "cell_type": "code",
   "execution_count": 9,
   "metadata": {},
   "outputs": [
    {
     "name": "stdout",
     "output_type": "stream",
     "text": [
      "__________________________________________________________________________________________________\n",
      "Layer (type)                    Output Shape         Param #     Connected to                     \n",
      "==================================================================================================\n",
      "Item (InputLayer)               (None, 1)            0                                            \n",
      "__________________________________________________________________________________________________\n",
      "User (InputLayer)               (None, 1)            0                                            \n",
      "__________________________________________________________________________________________________\n",
      "Movie-Embedding (Embedding)     (None, 1, 8)         8008        Item[0][0]                       \n",
      "__________________________________________________________________________________________________\n",
      "User-Embedding (Embedding)      (None, 1, 5)         50005       User[0][0]                       \n",
      "__________________________________________________________________________________________________\n",
      "FlattenMovies (Flatten)         (None, 8)            0           Movie-Embedding[0][0]            \n",
      "__________________________________________________________________________________________________\n",
      "FlattenUsers (Flatten)          (None, 5)            0           User-Embedding[0][0]             \n",
      "__________________________________________________________________________________________________\n",
      "dropout_4 (Dropout)             (None, 8)            0           FlattenMovies[0][0]              \n",
      "__________________________________________________________________________________________________\n",
      "dropout_5 (Dropout)             (None, 5)            0           FlattenUsers[0][0]               \n",
      "__________________________________________________________________________________________________\n",
      "Concat (Concatenate)            (None, 13)           0           dropout_4[0][0]                  \n",
      "                                                                 dropout_5[0][0]                  \n",
      "__________________________________________________________________________________________________\n",
      "FullyConnected (Dense)          (None, 300)          4200        Concat[0][0]                     \n",
      "__________________________________________________________________________________________________\n",
      "Dropout_1 (Dropout)             (None, 300)          0           FullyConnected[0][0]             \n",
      "__________________________________________________________________________________________________\n",
      "FullyConnected-1 (Dense)        (None, 150)          45150       Dropout_1[0][0]                  \n",
      "__________________________________________________________________________________________________\n",
      "Dropout_2 (Dropout)             (None, 150)          0           FullyConnected-1[0][0]           \n",
      "__________________________________________________________________________________________________\n",
      "FullyConnected-2 (Dense)        (None, 75)           11325       Dropout_2[0][0]                  \n",
      "__________________________________________________________________________________________________\n",
      "Dropout_3 (Dropout)             (None, 75)           0           FullyConnected-2[0][0]           \n",
      "__________________________________________________________________________________________________\n",
      "Activation (Dense)              (None, 1)            76          Dropout_3[0][0]                  \n",
      "==================================================================================================\n",
      "Total params: 118,764\n",
      "Trainable params: 118,764\n",
      "Non-trainable params: 0\n",
      "__________________________________________________________________________________________________\n"
     ]
    }
   ],
   "source": [
    "model.summary()"
   ]
  },
  {
   "cell_type": "markdown",
   "metadata": {},
   "source": [
    "# Put graphviz stuff heeeeere"
   ]
  },
  {
   "cell_type": "code",
   "execution_count": null,
   "metadata": {},
   "outputs": [],
   "source": [
    "history = model.fit([train.user_id, train.movie_id], train.prediction, epochs=50, verbose=1)"
   ]
  },
  {
   "cell_type": "code",
   "execution_count": 13,
   "metadata": {
    "collapsed": true
   },
   "outputs": [],
   "source": [
    "y_hat = np.round(model.predict([test.user_id, test.movie_id]),0)\n",
    "y_hat[y_hat < 1] = 1\n",
    "y_hat[y_hat > 5] = 5\n",
    "y_true = test.prediction"
   ]
  },
  {
   "cell_type": "code",
   "execution_count": 14,
   "metadata": {},
   "outputs": [
    {
     "data": {
      "text/plain": [
       "9.392409257748776"
      ]
     },
     "execution_count": 14,
     "metadata": {},
     "output_type": "execute_result"
    }
   ],
   "source": [
    "from sklearn.metrics import mean_absolute_error, mean_squared_error\n",
    "mean_squared_error(y_true, y_hat)"
   ]
  },
  {
   "cell_type": "code",
   "execution_count": 34,
   "metadata": {
    "collapsed": true
   },
   "outputs": [],
   "source": [
    "dataset_to_predict = pd.read_csv(DATAPATH+\"cleaned_sample.csv\", names=\"user_id,movie_id,prediction\".split(','))\n",
    "dataset_to_predict ['user_id'] = dataset_to_predict ['user_id']-1\n",
    "dataset_to_predict ['movie_id'] = dataset_to_predict ['movie_id']-1\n",
    "dataset_to_predict .head()\n",
    "\n",
    "predictions = np.round(model.predict([dataset_to_predict.user_id, dataset_to_predict.movie_id]),0)\n",
    "predictions[predictions < 1] = 1\n",
    "predictions[predictions > 5] = 5\n",
    "\n",
    "dataset_to_predict[\"prediction\"] = predictions.astype(int)\n",
    "\n",
    "def create_submission():\n",
    "    f = open(DATAPATH+\"submission4.csv\", \"w\")\n",
    "    f.write(\"Id,Prediction\\n\")\n",
    "    for _,d in dataset_to_predict.iterrows():\n",
    "        text = 'r'+str(d[0]+1)+'_c'+str(d[1]+1)+','+str(d[2])+'\\n'\n",
    "        f.write(text)\n",
    "    f.close()\n",
    "    \n",
    "create_submission()"
   ]
  }
 ],
 "metadata": {
  "kernelspec": {
   "display_name": "Python [default]",
   "language": "python",
   "name": "python3"
  },
  "language_info": {
   "codemirror_mode": {
    "name": "ipython",
    "version": 3
   },
   "file_extension": ".py",
   "mimetype": "text/x-python",
   "name": "python",
   "nbconvert_exporter": "python",
   "pygments_lexer": "ipython3",
   "version": "3.6.5"
  }
 },
 "nbformat": 4,
 "nbformat_minor": 2
}
