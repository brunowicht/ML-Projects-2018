{
 "cells": [
  {
   "cell_type": "code",
   "execution_count": 1,
   "metadata": {},
   "outputs": [],
   "source": [
    "import pandas as pd\n",
    "import numpy as np\n",
    "import random\n",
    "import matplotlib.pyplot as plt\n",
    "\n",
    "import warnings\n",
    "warnings.filterwarnings('ignore')\n",
    "\n",
    "#import keras\n",
    "from IPython.display import SVG\n",
    "#from keras.optimizers import Adam\n",
    "#from keras.utils.vis_utils import model_to_dot\n",
    "\n",
    "from sklearn.linear_model import Ridge\n",
    "\n",
    "%matplotlib inline"
   ]
  },
  {
   "cell_type": "code",
   "execution_count": 2,
   "metadata": {},
   "outputs": [
    {
     "data": {
      "application/javascript": [
       "IPython.notebook.set_autosave_interval(7200000)"
      ]
     },
     "metadata": {},
     "output_type": "display_data"
    },
    {
     "name": "stdout",
     "output_type": "stream",
     "text": [
      "Autosaving every 7200 seconds\n"
     ]
    }
   ],
   "source": [
    "DATAPATH = \"data/\"\n",
    "\n",
    "%autosave 7200"
   ]
  },
  {
   "cell_type": "code",
   "execution_count": 3,
   "metadata": {},
   "outputs": [
    {
     "data": {
      "text/html": [
       "<div>\n",
       "<style scoped>\n",
       "    .dataframe tbody tr th:only-of-type {\n",
       "        vertical-align: middle;\n",
       "    }\n",
       "\n",
       "    .dataframe tbody tr th {\n",
       "        vertical-align: top;\n",
       "    }\n",
       "\n",
       "    .dataframe thead th {\n",
       "        text-align: right;\n",
       "    }\n",
       "</style>\n",
       "<table border=\"1\" class=\"dataframe\">\n",
       "  <thead>\n",
       "    <tr style=\"text-align: right;\">\n",
       "      <th></th>\n",
       "      <th>user_id</th>\n",
       "      <th>movie_id</th>\n",
       "      <th>prediction</th>\n",
       "    </tr>\n",
       "  </thead>\n",
       "  <tbody>\n",
       "    <tr>\n",
       "      <th>0</th>\n",
       "      <td>43</td>\n",
       "      <td>0</td>\n",
       "      <td>4</td>\n",
       "    </tr>\n",
       "    <tr>\n",
       "      <th>1</th>\n",
       "      <td>60</td>\n",
       "      <td>0</td>\n",
       "      <td>3</td>\n",
       "    </tr>\n",
       "    <tr>\n",
       "      <th>2</th>\n",
       "      <td>66</td>\n",
       "      <td>0</td>\n",
       "      <td>4</td>\n",
       "    </tr>\n",
       "    <tr>\n",
       "      <th>3</th>\n",
       "      <td>71</td>\n",
       "      <td>0</td>\n",
       "      <td>3</td>\n",
       "    </tr>\n",
       "    <tr>\n",
       "      <th>4</th>\n",
       "      <td>85</td>\n",
       "      <td>0</td>\n",
       "      <td>5</td>\n",
       "    </tr>\n",
       "  </tbody>\n",
       "</table>\n",
       "</div>"
      ],
      "text/plain": [
       "   user_id  movie_id  prediction\n",
       "0       43         0           4\n",
       "1       60         0           3\n",
       "2       66         0           4\n",
       "3       71         0           3\n",
       "4       85         0           5"
      ]
     },
     "execution_count": 3,
     "metadata": {},
     "output_type": "execute_result"
    }
   ],
   "source": [
    "dataset = pd.read_csv(DATAPATH+\"cleaned_data_train.csv\", names=\"user_id,movie_id,prediction\".split(','))\n",
    "dataset['user_id'] = dataset['user_id']-1\n",
    "dataset['movie_id'] = dataset['movie_id']-1\n",
    "dataset.head()"
   ]
  },
  {
   "cell_type": "code",
   "execution_count": 4,
   "metadata": {},
   "outputs": [],
   "source": [
    "table=pd.pivot_table(dataset,values='prediction',index=['user_id'],columns=['movie_id'])"
   ]
  },
  {
   "cell_type": "code",
   "execution_count": 5,
   "metadata": {},
   "outputs": [],
   "source": [
    "matrix=table.fillna(0).values\n",
    "del table"
   ]
  },
  {
   "cell_type": "code",
   "execution_count": 6,
   "metadata": {},
   "outputs": [],
   "source": [
    "label_positions=np.logical_not(matrix==0)\n"
   ]
  },
  {
   "cell_type": "code",
   "execution_count": 7,
   "metadata": {},
   "outputs": [],
   "source": [
    "test_size=0.1\n",
    "where=np.where(label_positions.reshape(label_positions.size,))[0]\n",
    "test_where=random.sample(where.tolist(),int(len(where)*test_size))\n"
   ]
  },
  {
   "cell_type": "code",
   "execution_count": 8,
   "metadata": {},
   "outputs": [
    {
     "data": {
      "text/plain": [
       "[1953399, 2805187, 4683930, 1293177, 2863649]"
      ]
     },
     "execution_count": 8,
     "metadata": {},
     "output_type": "execute_result"
    }
   ],
   "source": [
    "test_where[:5]"
   ]
  },
  {
   "cell_type": "code",
   "execution_count": 21,
   "metadata": {},
   "outputs": [],
   "source": [
    "train_where=list(set(where.copy().tolist())-set(test_where))\n",
    "train_matrix=np.zeros(matrix.size,)\n",
    "train_matrix[train_where]=matrix.reshape((matrix.size,))[train_where]\n",
    "test_matrix=np.zeros(matrix.size,)\n",
    "test_matrix[test_where]=matrix.reshape((matrix.size,))[test_where]\n",
    "\n",
    "train_matrix=train_matrix.reshape(matrix.shape)\n",
    "test_matrix=test_matrix.reshape(matrix.shape)\n",
    "\n",
    "train_label_positions=np.logical_not(train_matrix==0)\n",
    "test_label_positions=np.logical_not(test_matrix==0)"
   ]
  },
  {
   "cell_type": "code",
   "execution_count": 10,
   "metadata": {},
   "outputs": [
    {
     "name": "stdout",
     "output_type": "stream",
     "text": [
      "1059257\n",
      "117695\n",
      "1176952\n"
     ]
    }
   ],
   "source": [
    "existing_labels=np.sum(label_positions, axis=0)\n",
    "print(len(train_where))\n",
    "print(len(test_where))\n",
    "print(where.size)"
   ]
  },
  {
   "cell_type": "code",
   "execution_count": 11,
   "metadata": {},
   "outputs": [
    {
     "data": {
      "image/png": "[encoded data removed]",
      "text/plain": [
       "<Figure size 432x288 with 1 Axes>"
      ]
     },
     "metadata": {
      "needs_background": "light"
     },
     "output_type": "display_data"
    },
    {
     "data": {
      "image/png": "[encoded data removed]",
      "text/plain": [
       "<Figure size 432x288 with 1 Axes>"
      ]
     },
     "metadata": {
      "needs_background": "light"
     },
     "output_type": "display_data"
    },
    {
     "name": "stdout",
     "output_type": "stream",
     "text": [
      "Number of movies unlabeled:  0\n"
     ]
    }
   ],
   "source": [
    "plt.plot(existing_labels)\n",
    "plt.title('Number of know scores per movie')\n",
    "plt.xlabel('Movie id')\n",
    "plt.ylabel('Number of given scores')\n",
    "plt.show()\n",
    "plt.hist(existing_labels,bins=50)\n",
    "plt.title('Distribution of given scores')\n",
    "plt.xlabel('# of given scores')\n",
    "plt.ylabel('Frequency')\n",
    "plt.show()\n",
    "print('Number of movies unlabeled: ', np.sum(existing_labels==0))"
   ]
  },
  {
   "cell_type": "code",
   "execution_count": 12,
   "metadata": {},
   "outputs": [],
   "source": [
    "#smart iinitialization\n",
    "A,B,C=np.linalg.svd(matrix,full_matrices=False)\n",
    "nb_feature=30\n",
    "B_reduced=np.sqrt(np.diag(B[:nb_feature]))\n",
    "\n",
    "X=A[:,:nb_feature].dot(B_reduced)\n",
    "Y=B_reduced.dot(C[:nb_feature,:])"
   ]
  },
  {
   "cell_type": "code",
   "execution_count": 39,
   "metadata": {},
   "outputs": [],
   "source": [
    "def ALS(X,Y,matrix,label_positions,lambda_1=.01,lambda_2=0.1):\n",
    "    #fixing Y, optimizing X\n",
    "    Xnew=X.copy()\n",
    "    Ynew=Y.copy()\n",
    "    n_feature=X.shape[1]\n",
    "    I=np.diag(np.ones((n_feature,)))\n",
    "    for u in range(X.shape[0]):\n",
    "        ratings_user=matrix[u,:]\n",
    "        W_user=np.diag(label_positions[u,:].squeeze())\n",
    "        A=np.linalg.inv(Y.dot(W_user).dot(Y.T)+lambda_1*I)\n",
    "        Xnew[u,:]=ratings_user.dot(W_user).dot(Y.T).dot(A.T)\n",
    "        \n",
    "#         if u%100==0:\n",
    "#             print(str(u/100) +'per2cent done')\n",
    "    for m in range(Y.shape[1]):\n",
    "        ratings_movie=matrix[:,m]\n",
    "        W_movie=np.diag(label_positions[:,m].squeeze())\n",
    "        A=np.linalg.inv(Xnew.T.dot(W_movie).dot(Xnew)+lambda_2*I)\n",
    "        Ynew[:,m]=A.dot(Xnew.T).dot(W_movie).dot(ratings_movie)\n",
    "#         if m%10==0:\n",
    "#             print(str(m/10)+'per2cent done')\n",
    "    return Xnew,Ynew\n",
    "        \n",
    "        \n",
    "        "
   ]
  },
  {
   "cell_type": "code",
   "execution_count": 25,
   "metadata": {},
   "outputs": [
    {
     "name": "stdout",
     "output_type": "stream",
     "text": [
      "Wall time: 16min 3s\n"
     ]
    }
   ],
   "source": [
    "%%time\n",
    "Xnew,Ynew=ALS(X,Y,matrix,label_positions,lambda_=.1)"
   ]
  },
  {
   "cell_type": "code",
   "execution_count": 309,
   "metadata": {},
   "outputs": [
    {
     "data": {
      "text/plain": [
       "[<matplotlib.lines.Line2D at 0x7f9b23f8a6a0>]"
      ]
     },
     "execution_count": 309,
     "metadata": {},
     "output_type": "execute_result"
    },
    {
     "data": {
      "image/png": "[encoded data removed]",
      "text/plain": [
       "<Figure size 432x288 with 1 Axes>"
      ]
     },
     "metadata": {
      "needs_background": "light"
     },
     "output_type": "display_data"
    }
   ],
   "source": [
    "plt.plot(np.array([compute_error(Xnew,Ynew,matrix,label_positions),compute_error(Xnew2,Ynew2,matrix,label_positions),compute_error(Xnew3,Ynew3,matrix,label_positions)]))"
   ]
  },
  {
   "cell_type": "code",
   "execution_count": 14,
   "metadata": {},
   "outputs": [
    {
     "data": {
      "text/html": [
       "<div>\n",
       "<style scoped>\n",
       "    .dataframe tbody tr th:only-of-type {\n",
       "        vertical-align: middle;\n",
       "    }\n",
       "\n",
       "    .dataframe tbody tr th {\n",
       "        vertical-align: top;\n",
       "    }\n",
       "\n",
       "    .dataframe thead th {\n",
       "        text-align: right;\n",
       "    }\n",
       "</style>\n",
       "<table border=\"1\" class=\"dataframe\">\n",
       "  <thead>\n",
       "    <tr style=\"text-align: right;\">\n",
       "      <th></th>\n",
       "      <th>user_id</th>\n",
       "      <th>movie_id</th>\n",
       "      <th>prediction</th>\n",
       "    </tr>\n",
       "  </thead>\n",
       "  <tbody>\n",
       "    <tr>\n",
       "      <th>0</th>\n",
       "      <td>36</td>\n",
       "      <td>0</td>\n",
       "      <td>3</td>\n",
       "    </tr>\n",
       "    <tr>\n",
       "      <th>1</th>\n",
       "      <td>72</td>\n",
       "      <td>0</td>\n",
       "      <td>3</td>\n",
       "    </tr>\n",
       "    <tr>\n",
       "      <th>2</th>\n",
       "      <td>155</td>\n",
       "      <td>0</td>\n",
       "      <td>3</td>\n",
       "    </tr>\n",
       "    <tr>\n",
       "      <th>3</th>\n",
       "      <td>159</td>\n",
       "      <td>0</td>\n",
       "      <td>3</td>\n",
       "    </tr>\n",
       "    <tr>\n",
       "      <th>4</th>\n",
       "      <td>247</td>\n",
       "      <td>0</td>\n",
       "      <td>3</td>\n",
       "    </tr>\n",
       "  </tbody>\n",
       "</table>\n",
       "</div>"
      ],
      "text/plain": [
       "   user_id  movie_id  prediction\n",
       "0       36         0           3\n",
       "1       72         0           3\n",
       "2      155         0           3\n",
       "3      159         0           3\n",
       "4      247         0           3"
      ]
     },
     "execution_count": 14,
     "metadata": {},
     "output_type": "execute_result"
    }
   ],
   "source": [
    "dataset_to_predict = pd.read_csv(DATAPATH+\"cleaned_sample.csv\", names=\"user_id,movie_id,prediction\".split(','))\n",
    "dataset_to_predict ['user_id'] = dataset_to_predict ['user_id']-1\n",
    "dataset_to_predict ['movie_id'] = dataset_to_predict ['movie_id']-1\n",
    "dataset_to_predict .head()"
   ]
  },
  {
   "cell_type": "code",
   "execution_count": 27,
   "metadata": {},
   "outputs": [
    {
     "ename": "NameError",
     "evalue": "name 'Xnew3' is not defined",
     "output_type": "error",
     "traceback": [
      "\u001b[1;31m---------------------------------------------------------------------------\u001b[0m",
      "\u001b[1;31mNameError\u001b[0m                                 Traceback (most recent call last)",
      "\u001b[1;32m<ipython-input-27-8ff21fa63261>\u001b[0m in \u001b[0;36m<module>\u001b[1;34m()\u001b[0m\n\u001b[1;32m----> 1\u001b[1;33m \u001b[0mres_matrix\u001b[0m\u001b[1;33m=\u001b[0m\u001b[0mnp\u001b[0m\u001b[1;33m.\u001b[0m\u001b[0mround\u001b[0m\u001b[1;33m(\u001b[0m\u001b[0mnp\u001b[0m\u001b[1;33m.\u001b[0m\u001b[0mdot\u001b[0m\u001b[1;33m(\u001b[0m\u001b[0mXnew3\u001b[0m\u001b[1;33m,\u001b[0m\u001b[0mYnew3\u001b[0m\u001b[1;33m)\u001b[0m\u001b[1;33m)\u001b[0m\u001b[1;33m\u001b[0m\u001b[0m\n\u001b[0m\u001b[0;32m      2\u001b[0m \u001b[0mres_matrix\u001b[0m\u001b[1;33m[\u001b[0m\u001b[0mres_matrix\u001b[0m\u001b[1;33m>\u001b[0m\u001b[1;36m5\u001b[0m\u001b[1;33m]\u001b[0m\u001b[1;33m=\u001b[0m\u001b[1;36m5\u001b[0m\u001b[1;33m\u001b[0m\u001b[0m\n\u001b[0;32m      3\u001b[0m \u001b[0mres_matrix\u001b[0m\u001b[1;33m[\u001b[0m\u001b[0mres_matrix\u001b[0m\u001b[1;33m<\u001b[0m\u001b[1;36m1\u001b[0m\u001b[1;33m]\u001b[0m\u001b[1;33m=\u001b[0m\u001b[1;36m1\u001b[0m\u001b[1;33m\u001b[0m\u001b[0m\n\u001b[0;32m      4\u001b[0m \u001b[0mmatrix_pd\u001b[0m \u001b[1;33m=\u001b[0m \u001b[0mpd\u001b[0m\u001b[1;33m.\u001b[0m\u001b[0mDataFrame\u001b[0m\u001b[1;33m(\u001b[0m\u001b[0mres_matrix\u001b[0m\u001b[1;33m)\u001b[0m\u001b[1;33m\u001b[0m\u001b[0m\n\u001b[0;32m      5\u001b[0m \u001b[1;33m\u001b[0m\u001b[0m\n",
      "\u001b[1;31mNameError\u001b[0m: name 'Xnew3' is not defined"
     ]
    }
   ],
   "source": [
    "res_matrix=np.round(np.dot(Xnew3,Ynew3))\n",
    "res_matrix[res_matrix>5]=5\n",
    "res_matrix[res_matrix<1]=1\n",
    "matrix_pd = pd.DataFrame(res_matrix)\n",
    "\n",
    "\n",
    "matrix_pd.index.name = \"user_id\"\n",
    "matrix_pd.columns.name=\"movie_id\"\n",
    "# joined = dataset_to_predict.set_index(\"user_id\").join(matrix_pd,how=\"outer\")\n",
    "\n",
    "matrix_pd.head()"
   ]
  },
  {
   "cell_type": "code",
   "execution_count": 313,
   "metadata": {},
   "outputs": [],
   "source": [
    "res=matrix_pd.stack().to_frame().reset_index(level=[\"user_id\",\"movie_id\"])\n",
    "res.columns=[\"user_id\",\"movie_id\",\"final_predictions\"]\n",
    "predictors=pd.merge(dataset_to_predict,res,right_on=['user_id','movie_id'],left_on=['user_id','movie_id'],how='inner')\n"
   ]
  },
  {
   "cell_type": "code",
   "execution_count": 314,
   "metadata": {},
   "outputs": [],
   "source": [
    "predictors=predictors.drop(columns=['prediction'])"
   ]
  },
  {
   "cell_type": "code",
   "execution_count": 315,
   "metadata": {},
   "outputs": [],
   "source": [
    "predictors.columns=['user_id','movie_id','predictions']"
   ]
  },
  {
   "cell_type": "code",
   "execution_count": 15,
   "metadata": {},
   "outputs": [],
   "source": [
    "def create_submission(predictors,name):\n",
    "\n",
    "    f = open(DATAPATH+name, \"w\")\n",
    "    f.write(\"Id,Prediction\\n\")\n",
    "    for _,d in predictors.iterrows():\n",
    "        text = 'r'+str(int(d[0]+1))+'_c'+str(int(d[1]+1))+','+str(int(d[2]))+'\\n'\n",
    "        f.write(text)\n",
    "    f.close()"
   ]
  },
  {
   "cell_type": "code",
   "execution_count": 16,
   "metadata": {},
   "outputs": [],
   "source": [
    "def compute_error(X,Y,matrix,label_pos):\n",
    "\n",
    "    return np.sum((label_pos * (matrix - np.dot(X, Y)))**2)/np.sum(label_pos)"
   ]
  },
  {
   "cell_type": "code",
   "execution_count": 17,
   "metadata": {},
   "outputs": [
    {
     "ename": "NameError",
     "evalue": "name 'res' is not defined",
     "output_type": "error",
     "traceback": [
      "\u001b[0;31m---------------------------------------------------------------------------\u001b[0m",
      "\u001b[0;31mNameError\u001b[0m                                 Traceback (most recent call last)",
      "\u001b[0;32m<ipython-input-17-36dd32cc0216>\u001b[0m in \u001b[0;36m<module>\u001b[0;34m\u001b[0m\n\u001b[0;32m----> 1\u001b[0;31m \u001b[0mdataset_to_predict\u001b[0m\u001b[0;34m.\u001b[0m\u001b[0mmerge\u001b[0m\u001b[0;34m(\u001b[0m\u001b[0mres\u001b[0m\u001b[0;34m,\u001b[0m\u001b[0mright_on\u001b[0m\u001b[0;34m=\u001b[0m\u001b[0;34m[\u001b[0m\u001b[0;34m'user_id'\u001b[0m\u001b[0;34m,\u001b[0m\u001b[0;34m'movie_id'\u001b[0m\u001b[0;34m]\u001b[0m\u001b[0;34m,\u001b[0m\u001b[0mleft_on\u001b[0m\u001b[0;34m=\u001b[0m\u001b[0;34m[\u001b[0m\u001b[0;34m'user_id'\u001b[0m\u001b[0;34m,\u001b[0m\u001b[0;34m'movie_id'\u001b[0m\u001b[0;34m]\u001b[0m\u001b[0;34m,\u001b[0m\u001b[0mhow\u001b[0m\u001b[0;34m=\u001b[0m\u001b[0;34m'inner'\u001b[0m\u001b[0;34m)\u001b[0m\u001b[0;34m\u001b[0m\u001b[0m\n\u001b[0m",
      "\u001b[0;31mNameError\u001b[0m: name 'res' is not defined"
     ]
    }
   ],
   "source": [
    "dataset_to_predict.merge(res,right_on=['user_id','movie_id'],left_on=['user_id','movie_id'],how='inner')"
   ]
  },
  {
   "cell_type": "code",
   "execution_count": 42,
   "metadata": {},
   "outputs": [],
   "source": [
    "def piping(matrix,test_matrix,nb_feature,label_pos,test_pos,dataset_to_predict,lambda_1,lambda_2,iterations,name):\n",
    "    \n",
    "    A,B,C=np.linalg.svd(matrix,full_matrices=False)\n",
    " \n",
    "    B_reduced=np.sqrt(np.diag(B[:nb_feature]))\n",
    "\n",
    "    X=A[:,:nb_feature].dot(B_reduced)\n",
    "    Y=B_reduced.dot(C[:nb_feature,:])\n",
    "    \n",
    "    \n",
    "    \n",
    "    X_=X.copy()\n",
    "    Y_=Y.copy()\n",
    "    training_errors=[]\n",
    "    test_errors=[]\n",
    "    for i in range(iterations):\n",
    "        X_,Y_=ALS(X_,Y_,matrix,label_pos,lambda_1,lambda_2)\n",
    "        \n",
    "        res_matrix=np.round(np.dot(X_,Y_))\n",
    "        res_matrix[res_matrix>5]=5\n",
    "        res_matrix[res_matrix<1]=1\n",
    "        training_errors.append(compute_error(X_,Y_,matrix,label_pos))\n",
    "        test_errors.append(compute_error(X_,Y_,test_matrix,test_pos))\n",
    "        print('iteration ',i,'lambda 1',lambda_1,'lambda2 ',lambda_2,'errors',compute_error(X_,Y_,matrix,label_pos),' ',compute_error(X_,Y_,test_matrix,test_pos))\n",
    "#     res_matrix=np.round(np.dot(X_,Y_))\n",
    "#     res_matrix[res_matrix>5]=5\n",
    "#     res_matrix[res_matrix<1]=1\n",
    "    matrix_pd = pd.DataFrame(res_matrix)\n",
    "\n",
    "\n",
    "    matrix_pd.index.name = \"user_id\"\n",
    "    matrix_pd.columns.name=\"movie_id\"\n",
    "    \n",
    "    res=matrix_pd.stack().to_frame().reset_index(level=[\"user_id\",\"movie_id\"])\n",
    "    res.columns=[\"user_id\",\"movie_id\",\"final_predictions\"]\n",
    "    predictors= pd.merge(dataset_to_predict,res,right_on=['user_id','movie_id'],left_on=['user_id','movie_id'],how='inner')\n",
    "    plt.plot(np.array(training_errors))\n",
    "    plt.plot(np.array(test_errors))\n",
    "    predictors=predictors.drop(columns=['prediction'])\n",
    "    create_submission(predictors,name)\n",
    "    \n",
    "    "
   ]
  },
  {
   "cell_type": "code",
   "execution_count": 37,
   "metadata": {},
   "outputs": [
    {
     "data": {
      "text/plain": [
       "array([1, 2])"
      ]
     },
     "execution_count": 37,
     "metadata": {},
     "output_type": "execute_result"
    }
   ],
   "source": [
    "np.ravel(np.array([1,2]))"
   ]
  },
  {
   "cell_type": "code",
   "execution_count": null,
   "metadata": {},
   "outputs": [
    {
     "name": "stdout",
     "output_type": "stream",
     "text": [
      "iteration  0 lambda 1 0.01 lambda2  0.01 errors 0.9215716962616191   1.000464119159041\n",
      "iteration  1 lambda 1 0.01 lambda2  0.01 errors 0.8856261003260512   0.9898906703911727\n",
      "iteration  2 lambda 1 0.01 lambda2  0.01 errors 0.8813665934964351   0.9916066535545452\n",
      "iteration  3 lambda 1 0.01 lambda2  0.01 errors 0.8796642998835026   0.9933765301505868\n",
      "iteration  4 lambda 1 0.01 lambda2  0.01 errors 0.8788698998532806   0.9946090799818895\n",
      "iteration  5 lambda 1 0.01 lambda2  0.01 errors 0.8784526887063322   0.9952745713852124\n",
      "iteration  6 lambda 1 0.01 lambda2  0.01 errors 0.8782069553923847   0.995675780827743\n",
      "iteration  7 lambda 1 0.01 lambda2  0.01 errors 0.878045575983578   0.9959199316521842\n",
      "iteration  8 lambda 1 0.01 lambda2  0.01 errors 0.8779284376977567   0.9960653126528342\n",
      "iteration  9 lambda 1 0.01 lambda2  0.01 errors 0.8778357341666195   0.9961476730897949\n",
      "iteration  0 lambda 1 0.01 lambda2  0.1 errors 0.9215755496810737   1.0003589085324682\n",
      "iteration  1 lambda 1 0.01 lambda2  0.1 errors 0.8856239367375804   0.9896690868983299\n",
      "iteration  2 lambda 1 0.01 lambda2  0.1 errors 0.8813599249384011   0.9913146604922984\n",
      "iteration  3 lambda 1 0.01 lambda2  0.1 errors 0.8796578101335427   0.9930413381343981\n",
      "iteration  4 lambda 1 0.01 lambda2  0.1 errors 0.8788643549770854   0.9942409265980652\n",
      "iteration  5 lambda 1 0.01 lambda2  0.1 errors 0.8784479550218796   0.9948792453214075\n",
      "iteration  6 lambda 1 0.01 lambda2  0.1 errors 0.8782029216084533   0.99525887034262\n",
      "iteration  7 lambda 1 0.01 lambda2  0.1 errors 0.8780421123181076   0.9954857900123528\n",
      "iteration  8 lambda 1 0.01 lambda2  0.1 errors 0.8779252351333285   0.9956175978681253\n",
      "iteration  9 lambda 1 0.01 lambda2  0.1 errors 0.8778324096667264   0.9956893924864006\n",
      "iteration  0 lambda 1 0.01 lambda2  1.0 errors 0.9217018592833949   0.9995424939923804\n",
      "iteration  1 lambda 1 0.01 lambda2  1.0 errors 0.8856923992392747   0.9881659605335954\n",
      "iteration  2 lambda 1 0.01 lambda2  1.0 errors 0.8814113067875018   0.9894159616712382\n",
      "iteration  3 lambda 1 0.01 lambda2  1.0 errors 0.8797246005421795   0.9909390585975211\n",
      "iteration  4 lambda 1 0.01 lambda2  1.0 errors 0.8789446274109839   0.9920083744327736\n",
      "iteration  5 lambda 1 0.01 lambda2  1.0 errors 0.8785338162348583   0.9925722346389949\n",
      "iteration  6 lambda 1 0.01 lambda2  1.0 errors 0.8782881182268817   0.9929222751551248\n"
     ]
    }
   ],
   "source": [
    "for lambda_1 in np.logspace(-2,1,4):\n",
    "    for lambda_2 in np.logspace(-2,1,4):\n",
    "\n",
    "        piping(train_matrix,test_matrix,5,train_label_positions,test_label_positions,dataset_to_predict,lambda_1,lambda_2,10,\"test.csv\")"
   ]
  },
  {
   "cell_type": "code",
   "execution_count": 20,
   "metadata": {
    "scrolled": true
   },
   "outputs": [
    {
     "data": {
      "image/png": "[encoded data removed]",
      "text/plain": [
       "<Figure size 432x288 with 1 Axes>"
      ]
     },
     "metadata": {
      "needs_background": "light"
     },
     "output_type": "display_data"
    }
   ],
   "source": [
    "piping(matrix,5,label_positions,dataset_to_predict,10.,20,\"20pass5feat_lambda10Dot.csv\")"
   ]
  },
  {
   "cell_type": "code",
   "execution_count": 17,
   "metadata": {},
   "outputs": [
    {
     "data": {
      "image/png": "[encoded data removed]",
      "text/plain": [
       "<Figure size 432x288 with 1 Axes>"
      ]
     },
     "metadata": {
      "needs_background": "light"
     },
     "output_type": "display_data"
    }
   ],
   "source": [
    "piping(matrix,4,label_positions,dataset_to_predict,5.,10,\"10pass4feat_lambda5Dot.csv\")"
   ]
  },
  {
   "cell_type": "code",
   "execution_count": 18,
   "metadata": {},
   "outputs": [
    {
     "data": {
      "image/png": "[encoded data removed]",
      "text/plain": [
       "<Figure size 432x288 with 1 Axes>"
      ]
     },
     "metadata": {
      "needs_background": "light"
     },
     "output_type": "display_data"
    }
   ],
   "source": [
    "piping(matrix,3,label_positions,dataset_to_predict,5.,10,\"10pass3feat_lambda5Dot.csv\")"
   ]
  },
  {
   "cell_type": "code",
   "execution_count": 19,
   "metadata": {},
   "outputs": [
    {
     "data": {
      "image/png": "[encoded data removed]",
      "text/plain": [
       "<Figure size 432x288 with 1 Axes>"
      ]
     },
     "metadata": {
      "needs_background": "light"
     },
     "output_type": "display_data"
    }
   ],
   "source": [
    "piping(matrix,6,label_positions,dataset_to_predict,5.,10,\"10pass6feat_lambda5Dot.csv\")"
   ]
  },
  {
   "cell_type": "code",
   "execution_count": 17,
   "metadata": {},
   "outputs": [
    {
     "name": "stdout",
     "output_type": "stream",
     "text": [
      "CPU times: user 5h 22min 38s, sys: 2h 3min, total: 7h 25min 38s\n",
      "Wall time: 2h 6min 35s\n"
     ]
    },
    {
     "data": {
      "image/png": "[encoded data removed]",
      "text/plain": [
       "<Figure size 432x288 with 1 Axes>"
      ]
     },
     "metadata": {
      "needs_background": "light"
     },
     "output_type": "display_data"
    }
   ],
   "source": [
    "%%time\n",
    "piping(matrix,4,label_positions,dataset_to_predict,.1,10,\"10pass4feat_lambdaDot1.csv\")"
   ]
  },
  {
   "cell_type": "code",
   "execution_count": 18,
   "metadata": {},
   "outputs": [
    {
     "data": {
      "image/png": "[encoded data removed]",
      "text/plain": [
       "<Figure size 432x288 with 1 Axes>"
      ]
     },
     "metadata": {
      "needs_background": "light"
     },
     "output_type": "display_data"
    }
   ],
   "source": [
    "piping(matrix,4,label_positions,dataset_to_predict,1.,10,\"10pass4feat_lambda1Dot.csv\")"
   ]
  },
  {
   "cell_type": "code",
   "execution_count": 19,
   "metadata": {},
   "outputs": [
    {
     "data": {
      "image/png": "[encoded data removed]",
      "text/plain": [
       "<Figure size 432x288 with 1 Axes>"
      ]
     },
     "metadata": {
      "needs_background": "light"
     },
     "output_type": "display_data"
    }
   ],
   "source": [
    "piping(matrix,4,label_positions,dataset_to_predict,10.,10,\"10pass3feat_lambda10Dot.csv\")"
   ]
  },
  {
   "cell_type": "code",
   "execution_count": 17,
   "metadata": {},
   "outputs": [
    {
     "data": {
      "image/png": "[encoded data removed]",
      "text/plain": [
       "<Figure size 432x288 with 1 Axes>"
      ]
     },
     "metadata": {
      "needs_background": "light"
     },
     "output_type": "display_data"
    }
   ],
   "source": [
    "piping(matrix,3,label_positions,dataset_to_predict,1.,10,\"10pass3feat_lambda1Dot.csv\")"
   ]
  },
  {
   "cell_type": "code",
   "execution_count": 18,
   "metadata": {},
   "outputs": [
    {
     "data": {
      "image/png": "[encoded data removed]",
      "text/plain": [
       "<Figure size 432x288 with 1 Axes>"
      ]
     },
     "metadata": {
      "needs_background": "light"
     },
     "output_type": "display_data"
    }
   ],
   "source": [
    "piping(matrix,3,label_positions,dataset_to_predict,10.,10,\"10pass3feat_lambda10Dot.csv\")"
   ]
  },
  {
   "cell_type": "markdown",
   "metadata": {},
   "source": [
    "## studies on small matrix"
   ]
  },
  {
   "cell_type": "code",
   "execution_count": 245,
   "metadata": {},
   "outputs": [
    {
     "name": "stdout",
     "output_type": "stream",
     "text": [
      "[[ 1.45580721e+00  1.93264315e+00  2.01068789e+00]\n",
      " [ 4.05285407e+00 -2.44543593e-03  5.96408235e+00]\n",
      " [ 6.64903407e+00  8.01623839e+00  9.23850332e+00]]\n"
     ]
    }
   ],
   "source": [
    "study_matrix=np.array([[0,2,3],[4,0,6],[7,8,9]])\n",
    "study_label=study_matrix>0\n",
    "#smart iinitialization\n",
    "A,B,C=np.linalg.svd(study_matrix,full_matrices=False)\n",
    "nb_feature=2\n",
    "B_reduced=np.sqrt(np.diag(B[:nb_feature]))\n",
    "\n",
    "X=A[:,:nb_feature].dot(B_reduced)\n",
    "Y=B_reduced.dot(C[:nb_feature,:])\n",
    "print(X.dot(Y))"
   ]
  },
  {
   "cell_type": "code",
   "execution_count": 246,
   "metadata": {},
   "outputs": [
    {
     "name": "stdout",
     "output_type": "stream",
     "text": [
      "percent done\n",
      "percent done\n",
      "[[False  True  True]\n",
      " [ True False  True]\n",
      " [ True  True  True]]\n"
     ]
    }
   ],
   "source": [
    "X_new,Y_new=ALS(X,Y,study_matrix,study_label,lambda_=.01)\n",
    "print(study_label)"
   ]
  },
  {
   "cell_type": "code",
   "execution_count": 249,
   "metadata": {},
   "outputs": [
    {
     "name": "stdout",
     "output_type": "stream",
     "text": [
      "percent done\n",
      "percent done\n",
      "percent done\n",
      "percent done\n",
      "percent done\n",
      "percent done\n",
      "percent done\n",
      "percent done\n",
      "percent done\n",
      "percent done\n",
      "percent done\n",
      "percent done\n",
      "percent done\n",
      "percent done\n",
      "percent done\n",
      "percent done\n",
      "percent done\n",
      "percent done\n",
      "percent done\n",
      "percent done\n",
      "percent done\n",
      "percent done\n",
      "percent done\n",
      "percent done\n",
      "percent done\n",
      "percent done\n",
      "percent done\n",
      "percent done\n",
      "percent done\n",
      "percent done\n",
      "percent done\n",
      "percent done\n",
      "percent done\n",
      "percent done\n",
      "percent done\n",
      "percent done\n",
      "percent done\n",
      "percent done\n",
      "percent done\n",
      "percent done\n",
      "percent done\n",
      "percent done\n",
      "percent done\n",
      "percent done\n",
      "percent done\n",
      "percent done\n",
      "percent done\n",
      "percent done\n",
      "percent done\n",
      "percent done\n",
      "percent done\n",
      "percent done\n",
      "percent done\n",
      "percent done\n",
      "percent done\n",
      "percent done\n",
      "percent done\n",
      "percent done\n",
      "percent done\n",
      "percent done\n",
      "percent done\n",
      "percent done\n",
      "percent done\n",
      "percent done\n",
      "percent done\n",
      "percent done\n",
      "percent done\n",
      "percent done\n",
      "percent done\n",
      "percent done\n",
      "percent done\n",
      "percent done\n",
      "percent done\n",
      "percent done\n",
      "percent done\n",
      "percent done\n",
      "percent done\n",
      "percent done\n",
      "percent done\n",
      "percent done\n",
      "percent done\n",
      "percent done\n",
      "percent done\n",
      "percent done\n",
      "percent done\n",
      "percent done\n",
      "percent done\n",
      "percent done\n",
      "percent done\n",
      "percent done\n",
      "percent done\n",
      "percent done\n",
      "percent done\n",
      "percent done\n",
      "percent done\n",
      "percent done\n",
      "percent done\n",
      "percent done\n",
      "percent done\n",
      "percent done\n",
      "percent done\n",
      "percent done\n",
      "percent done\n",
      "percent done\n",
      "percent done\n",
      "percent done\n",
      "percent done\n",
      "percent done\n",
      "percent done\n",
      "percent done\n",
      "percent done\n",
      "percent done\n",
      "percent done\n",
      "percent done\n",
      "percent done\n",
      "percent done\n",
      "percent done\n",
      "percent done\n",
      "percent done\n",
      "percent done\n",
      "percent done\n",
      "percent done\n",
      "percent done\n",
      "percent done\n",
      "percent done\n",
      "percent done\n",
      "percent done\n",
      "percent done\n",
      "percent done\n",
      "percent done\n",
      "percent done\n",
      "percent done\n",
      "percent done\n",
      "percent done\n",
      "percent done\n",
      "percent done\n",
      "percent done\n",
      "percent done\n",
      "percent done\n",
      "percent done\n",
      "percent done\n",
      "percent done\n",
      "percent done\n",
      "percent done\n",
      "percent done\n",
      "percent done\n",
      "percent done\n",
      "percent done\n",
      "percent done\n",
      "percent done\n",
      "percent done\n",
      "percent done\n",
      "percent done\n",
      "percent done\n",
      "percent done\n",
      "percent done\n",
      "percent done\n",
      "percent done\n",
      "percent done\n",
      "percent done\n",
      "percent done\n",
      "percent done\n",
      "percent done\n",
      "percent done\n",
      "percent done\n",
      "percent done\n",
      "percent done\n",
      "percent done\n",
      "percent done\n",
      "percent done\n",
      "percent done\n",
      "percent done\n",
      "percent done\n",
      "percent done\n",
      "percent done\n",
      "percent done\n",
      "percent done\n",
      "percent done\n",
      "percent done\n",
      "percent done\n",
      "percent done\n",
      "percent done\n",
      "percent done\n",
      "percent done\n",
      "percent done\n",
      "percent done\n",
      "percent done\n",
      "percent done\n",
      "percent done\n",
      "percent done\n",
      "percent done\n",
      "percent done\n",
      "percent done\n",
      "percent done\n",
      "percent done\n",
      "percent done\n",
      "percent done\n",
      "percent done\n",
      "percent done\n",
      "percent done\n",
      "[[1.82923606 2.02659917 2.94194422]\n",
      " [4.00547392 4.49505162 5.92036101]\n",
      " [6.93740268 7.9250244  8.98488875]]\n"
     ]
    },
    {
     "data": {
      "image/png": "[encoded data removed]",
      "text/plain": [
       "<Figure size 432x288 with 1 Axes>"
      ]
     },
     "metadata": {
      "needs_background": "light"
     },
     "output_type": "display_data"
    }
   ],
   "source": [
    "X_old=X.copy()\n",
    "Y_old=Y.copy()\n",
    "error=[]\n",
    "for i in range(100):\n",
    "    X_new,Y_new=ALS(X_old,Y_old,study_matrix,study_label,lambda_=.1)\n",
    "    #print(X_new.dot(Y_new)\n",
    "    X_old=X_new.copy()\n",
    "    Y_old=Y_new.copy()\n",
    "    error.append(compute_error(X_new,Y_new,study_matrix,study_label))\n",
    "plt.plot(error)\n",
    "print(X_old.dot(Y_old))"
   ]
  },
  {
   "cell_type": "code",
   "execution_count": 158,
   "metadata": {
    "scrolled": true
   },
   "outputs": [
    {
     "name": "stdout",
     "output_type": "stream",
     "text": [
      "percent done\n",
      "percent done\n",
      "[[-1.10684842  2.00138817  2.99304408]\n",
      " [ 3.77603079  1.07015564  5.98995107]\n",
      " [ 7.11638927  0.8960582   8.98976896]]\n",
      "percent done\n",
      "percent done\n",
      "[[0.04126691 1.97702348 3.00246583]\n",
      " [4.16101385 0.94561267 5.99832886]\n",
      " [6.90551976 0.93021356 8.99878779]]\n",
      "percent done\n",
      "percent done\n",
      "[[-0.82483707  2.00124432  2.99259745]\n",
      " [ 3.81052961  1.08583997  5.99036155]\n",
      " [ 7.0912223   0.89668332  8.99188542]]\n",
      "percent done\n",
      "percent done\n",
      "[[0.11036948 1.97731763 3.0030274 ]\n",
      " [4.14403434 0.97700731 5.99741552]\n",
      " [6.91836703 0.93437289 8.99733359]]\n",
      "percent done\n",
      "percent done\n",
      "[[-0.6096168   2.00101594  2.99208888]\n",
      " [ 3.83557188  1.10827919  5.99101507]\n",
      " [ 7.07258939  0.91012477  8.99362216]]\n",
      "percent done\n",
      "percent done\n",
      "[[0.17245439 1.97760403 3.00358078]\n",
      " [4.13038456 1.006145   5.99660979]\n",
      " [6.92895217 0.94008689 8.99600422]]\n",
      "percent done\n",
      "percent done\n",
      "[[-0.43822768  2.00079254  2.99159074]\n",
      " [ 3.85468962  1.13016487  5.99157585]\n",
      " [ 7.05811083  0.92400719  8.99520696]]\n",
      "percent done\n",
      "percent done\n",
      "[[0.22861877 1.97788288 3.00412492]\n",
      " [4.11914219 1.0335839  5.99589899]\n",
      " [6.93787013 0.94708505 8.99478294]]\n",
      "percent done\n",
      "percent done\n",
      "[[-0.29754157  2.00057398  2.99110331]\n",
      " [ 3.86978356  1.15154142  5.99205655]\n",
      " [ 7.04649208  0.93827976  8.99665838]]\n",
      "percent done\n",
      "percent done\n",
      "[[0.27973408 1.97815443 3.00465932]\n",
      " [4.10971122 1.05965876 5.9952709 ]\n",
      " [6.9455073  0.9551376  8.99365838]]\n"
     ]
    }
   ],
   "source": [
    "X_new=X\n",
    "Y_new=Y\n",
    "for i in range(10):\n",
    "    X_new,Y_new=ALS2(X_new,Y_new,study_matrix,study_label,lambda_=.01)\n",
    "    print(X_new.dot(Y_new))"
   ]
  },
  {
   "cell_type": "code",
   "execution_count": 130,
   "metadata": {},
   "outputs": [
    {
     "name": "stdout",
     "output_type": "stream",
     "text": [
      "percent done\n",
      "percent done\n",
      "percent done\n",
      "percent done\n",
      "percent done\n",
      "percent done\n",
      "percent done\n",
      "percent done\n",
      "percent done\n",
      "percent done\n",
      "percent done\n",
      "percent done\n",
      "percent done\n",
      "percent done\n",
      "percent done\n",
      "percent done\n",
      "percent done\n",
      "percent done\n",
      "percent done\n",
      "percent done\n",
      "percent done\n",
      "percent done\n",
      "percent done\n",
      "percent done\n",
      "percent done\n",
      "percent done\n",
      "percent done\n",
      "percent done\n",
      "percent done\n",
      "percent done\n",
      "percent done\n",
      "percent done\n",
      "percent done\n",
      "percent done\n",
      "percent done\n",
      "percent done\n",
      "percent done\n",
      "percent done\n",
      "percent done\n",
      "percent done\n",
      "percent done\n",
      "percent done\n",
      "percent done\n",
      "percent done\n",
      "percent done\n",
      "percent done\n",
      "percent done\n",
      "percent done\n",
      "percent done\n",
      "percent done\n",
      "percent done\n",
      "percent done\n",
      "percent done\n",
      "percent done\n",
      "percent done\n",
      "percent done\n",
      "percent done\n",
      "percent done\n",
      "percent done\n",
      "percent done\n",
      "percent done\n",
      "percent done\n",
      "percent done\n",
      "percent done\n",
      "percent done\n",
      "percent done\n",
      "percent done\n",
      "percent done\n",
      "percent done\n",
      "percent done\n",
      "percent done\n",
      "percent done\n",
      "percent done\n",
      "percent done\n",
      "percent done\n",
      "percent done\n",
      "percent done\n",
      "percent done\n",
      "percent done\n",
      "percent done\n",
      "percent done\n",
      "percent done\n",
      "percent done\n",
      "percent done\n",
      "percent done\n",
      "percent done\n",
      "percent done\n",
      "percent done\n",
      "percent done\n",
      "percent done\n",
      "percent done\n",
      "percent done\n",
      "percent done\n",
      "percent done\n",
      "percent done\n",
      "percent done\n",
      "percent done\n",
      "percent done\n",
      "percent done\n",
      "percent done\n",
      "percent done\n",
      "percent done\n",
      "percent done\n",
      "percent done\n",
      "percent done\n",
      "percent done\n",
      "percent done\n",
      "percent done\n",
      "percent done\n",
      "percent done\n",
      "percent done\n",
      "percent done\n",
      "percent done\n",
      "percent done\n",
      "percent done\n",
      "percent done\n",
      "percent done\n",
      "percent done\n",
      "percent done\n",
      "percent done\n",
      "percent done\n",
      "percent done\n",
      "percent done\n",
      "percent done\n",
      "percent done\n",
      "percent done\n",
      "percent done\n",
      "percent done\n",
      "percent done\n",
      "percent done\n",
      "percent done\n",
      "percent done\n",
      "percent done\n",
      "percent done\n",
      "percent done\n",
      "percent done\n",
      "percent done\n",
      "percent done\n",
      "percent done\n",
      "percent done\n",
      "percent done\n",
      "percent done\n",
      "percent done\n",
      "percent done\n",
      "percent done\n",
      "percent done\n",
      "percent done\n",
      "percent done\n",
      "percent done\n",
      "percent done\n",
      "percent done\n",
      "percent done\n",
      "percent done\n",
      "percent done\n",
      "percent done\n",
      "percent done\n",
      "percent done\n",
      "percent done\n",
      "percent done\n",
      "percent done\n",
      "percent done\n",
      "percent done\n",
      "percent done\n",
      "percent done\n",
      "percent done\n",
      "percent done\n",
      "percent done\n",
      "percent done\n",
      "percent done\n",
      "percent done\n",
      "percent done\n",
      "percent done\n",
      "percent done\n",
      "percent done\n",
      "percent done\n",
      "percent done\n",
      "percent done\n",
      "percent done\n",
      "percent done\n",
      "percent done\n",
      "percent done\n",
      "percent done\n",
      "percent done\n",
      "percent done\n",
      "percent done\n",
      "percent done\n",
      "percent done\n",
      "percent done\n",
      "percent done\n",
      "percent done\n",
      "percent done\n",
      "percent done\n",
      "percent done\n",
      "percent done\n",
      "percent done\n",
      "percent done\n",
      "percent done\n",
      "percent done\n",
      "percent done\n",
      "percent done\n",
      "CPU times: user 58min 11s, sys: 14min 42s, total: 1h 12min 54s\n",
      "Wall time: 20min 34s\n"
     ]
    }
   ],
   "source": [
    "%%time\n",
    "Xnew,Ynew=ALS(X,Y,matrix,label_positions)"
   ]
  },
  {
   "cell_type": "code",
   "execution_count": 133,
   "metadata": {},
   "outputs": [
    {
     "data": {
      "text/plain": [
       "3.6439731618617217"
      ]
     },
     "execution_count": 133,
     "metadata": {},
     "output_type": "execute_result"
    }
   ],
   "source": [
    "compute_error(Xnew,Ynew,matrix,label_positions)"
   ]
  },
  {
   "cell_type": "markdown",
   "metadata": {},
   "source": [
    "## Found on\n",
    "https://bugra.github.io/work/notes/2014-04-19/alternating-least-squares-method-for-collaborative-filtering/"
   ]
  },
  {
   "cell_type": "code",
   "execution_count": null,
   "metadata": {},
   "outputs": [],
   "source": []
  }
 ],
 "metadata": {
  "kernelspec": {
   "display_name": "Python 3",
   "language": "python",
   "name": "python3"
  },
  "language_info": {
   "codemirror_mode": {
    "name": "ipython",
    "version": 3
   },
   "file_extension": ".py",
   "mimetype": "text/x-python",
   "name": "python",
   "nbconvert_exporter": "python",
   "pygments_lexer": "ipython3",
   "version": "3.5.2"
  }
 },
 "nbformat": 4,
 "nbformat_minor": 2
}
