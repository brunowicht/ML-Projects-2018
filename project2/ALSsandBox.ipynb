{
 "cells": [
  {
   "cell_type": "code",
   "execution_count": 1,
   "metadata": {},
   "outputs": [],
   "source": [
    "import pandas as pd\n",
    "import numpy as np\n",
    "import random\n",
    "import matplotlib.pyplot as plt\n",
    "\n",
    "import warnings\n",
    "warnings.filterwarnings('ignore')\n",
    "\n",
    "#import keras\n",
    "from IPython.display import SVG\n",
    "#from keras.optimizers import Adam\n",
    "#from keras.utils.vis_utils import model_to_dot\n",
    "\n",
    "# from sklearn.linear_model import Ridge\n",
    "\n",
    "%matplotlib inline"
   ]
  },
  {
   "cell_type": "code",
   "execution_count": 2,
   "metadata": {},
   "outputs": [
    {
     "data": {
      "text/plain": [
       "2.0"
      ]
     },
     "execution_count": 2,
     "metadata": {},
     "output_type": "execute_result"
    }
   ],
   "source": [
    "np.sum(np.diag(np.ones(2)))"
   ]
  },
  {
   "cell_type": "code",
   "execution_count": 3,
   "metadata": {},
   "outputs": [
    {
     "data": {
      "application/javascript": [
       "IPython.notebook.set_autosave_interval(7200000)"
      ]
     },
     "metadata": {},
     "output_type": "display_data"
    },
    {
     "name": "stdout",
     "output_type": "stream",
     "text": [
      "Autosaving every 7200 seconds\n"
     ]
    }
   ],
   "source": [
    "DATAPATH = \"data/\"\n",
    "\n",
    "%autosave 7200"
   ]
  },
  {
   "cell_type": "code",
   "execution_count": 4,
   "metadata": {},
   "outputs": [
    {
     "data": {
      "text/html": [
       "<div>\n",
       "<style scoped>\n",
       "    .dataframe tbody tr th:only-of-type {\n",
       "        vertical-align: middle;\n",
       "    }\n",
       "\n",
       "    .dataframe tbody tr th {\n",
       "        vertical-align: top;\n",
       "    }\n",
       "\n",
       "    .dataframe thead th {\n",
       "        text-align: right;\n",
       "    }\n",
       "</style>\n",
       "<table border=\"1\" class=\"dataframe\">\n",
       "  <thead>\n",
       "    <tr style=\"text-align: right;\">\n",
       "      <th></th>\n",
       "      <th>user_id</th>\n",
       "      <th>movie_id</th>\n",
       "      <th>prediction</th>\n",
       "    </tr>\n",
       "  </thead>\n",
       "  <tbody>\n",
       "    <tr>\n",
       "      <th>0</th>\n",
       "      <td>43</td>\n",
       "      <td>0</td>\n",
       "      <td>4</td>\n",
       "    </tr>\n",
       "    <tr>\n",
       "      <th>1</th>\n",
       "      <td>60</td>\n",
       "      <td>0</td>\n",
       "      <td>3</td>\n",
       "    </tr>\n",
       "    <tr>\n",
       "      <th>2</th>\n",
       "      <td>66</td>\n",
       "      <td>0</td>\n",
       "      <td>4</td>\n",
       "    </tr>\n",
       "    <tr>\n",
       "      <th>3</th>\n",
       "      <td>71</td>\n",
       "      <td>0</td>\n",
       "      <td>3</td>\n",
       "    </tr>\n",
       "    <tr>\n",
       "      <th>4</th>\n",
       "      <td>85</td>\n",
       "      <td>0</td>\n",
       "      <td>5</td>\n",
       "    </tr>\n",
       "  </tbody>\n",
       "</table>\n",
       "</div>"
      ],
      "text/plain": [
       "   user_id  movie_id  prediction\n",
       "0       43         0           4\n",
       "1       60         0           3\n",
       "2       66         0           4\n",
       "3       71         0           3\n",
       "4       85         0           5"
      ]
     },
     "execution_count": 4,
     "metadata": {},
     "output_type": "execute_result"
    }
   ],
   "source": [
    "dataset = pd.read_csv(DATAPATH+\"cleaned_data_train.csv\", names=\"user_id,movie_id,prediction\".split(','))\n",
    "dataset['user_id'] = dataset['user_id']-1\n",
    "dataset['movie_id'] = dataset['movie_id']-1\n",
    "dataset.head()"
   ]
  },
  {
   "cell_type": "code",
   "execution_count": 5,
   "metadata": {},
   "outputs": [],
   "source": [
    "table=pd.pivot_table(dataset,values='prediction',index=['user_id'],columns=['movie_id'])"
   ]
  },
  {
   "cell_type": "code",
   "execution_count": 6,
   "metadata": {},
   "outputs": [],
   "source": [
    "matrix=table.fillna(0).values\n",
    "del table"
   ]
  },
  {
   "cell_type": "code",
   "execution_count": 7,
   "metadata": {},
   "outputs": [],
   "source": [
    "label_positions=np.logical_not(matrix==0)\n"
   ]
  },
  {
   "cell_type": "code",
   "execution_count": 8,
   "metadata": {},
   "outputs": [],
   "source": [
    "test_size=0.1\n",
    "where=np.where(label_positions.reshape(label_positions.size,))[0]\n",
    "test_where=random.sample(where.tolist(),int(len(where)*test_size))\n"
   ]
  },
  {
   "cell_type": "code",
   "execution_count": 9,
   "metadata": {},
   "outputs": [
    {
     "data": {
      "text/plain": [
       "[7481065, 517485, 3414416, 1437456, 8629615]"
      ]
     },
     "execution_count": 9,
     "metadata": {},
     "output_type": "execute_result"
    }
   ],
   "source": [
    "test_where[:5]"
   ]
  },
  {
   "cell_type": "code",
   "execution_count": 10,
   "metadata": {},
   "outputs": [],
   "source": [
    "train_where=list(set(where.copy().tolist())-set(test_where))\n",
    "train_matrix=np.zeros(matrix.size,)\n",
    "train_matrix[train_where]=matrix.reshape((matrix.size,))[train_where]\n",
    "test_matrix=np.zeros(matrix.size,)\n",
    "test_matrix[test_where]=matrix.reshape((matrix.size,))[test_where]\n",
    "\n",
    "train_matrix=train_matrix.reshape(matrix.shape)\n",
    "test_matrix=test_matrix.reshape(matrix.shape)\n",
    "\n",
    "train_label_positions=np.logical_not(train_matrix==0)\n",
    "test_label_positions=np.logical_not(test_matrix==0)"
   ]
  },
  {
   "cell_type": "code",
   "execution_count": 11,
   "metadata": {},
   "outputs": [
    {
     "name": "stdout",
     "output_type": "stream",
     "text": [
      "1059257\n",
      "117695\n",
      "1176952\n"
     ]
    }
   ],
   "source": [
    "existing_labels=np.sum(label_positions, axis=0)\n",
    "print(len(train_where))\n",
    "print(len(test_where))\n",
    "print(where.size)"
   ]
  },
  {
   "cell_type": "code",
   "execution_count": 12,
   "metadata": {},
   "outputs": [
    {
     "data": {
      "image/png": "[encoded data removed]",
      "text/plain": [
       "<Figure size 432x288 with 1 Axes>"
      ]
     },
     "metadata": {
      "needs_background": "light"
     },
     "output_type": "display_data"
    },
    {
     "data": {
      "image/png": "[encoded data removed]",
      "text/plain": [
       "<Figure size 432x288 with 1 Axes>"
      ]
     },
     "metadata": {
      "needs_background": "light"
     },
     "output_type": "display_data"
    },
    {
     "name": "stdout",
     "output_type": "stream",
     "text": [
      "Number of movies unlabeled:  0\n"
     ]
    }
   ],
   "source": [
    "plt.plot(existing_labels)\n",
    "plt.title('Number of know scores per movie')\n",
    "plt.xlabel('Movie id')\n",
    "plt.ylabel('Number of given scores')\n",
    "plt.show()\n",
    "plt.hist(existing_labels,bins=50)\n",
    "plt.title('Distribution of given scores by movies')\n",
    "plt.xlabel('# of given scores')\n",
    "plt.ylabel('Frequency')\n",
    "plt.grid('on')\n",
    "plt.savefig('distrribution.png',bbox_inches='tight')\n",
    "plt.show()\n",
    "print('Number of movies unlabeled: ', np.sum(existing_labels==0))"
   ]
  },
  {
   "cell_type": "code",
   "execution_count": 17,
   "metadata": {},
   "outputs": [],
   "source": [
    "#smart iinitialization\n",
    "A,B,C=np.linalg.svd(matrix,full_matrices=False)\n",
    "nb_feature=30\n",
    "B_reduced=np.sqrt(np.diag(B[:nb_feature]))\n",
    "\n",
    "X=A[:,:nb_feature].dot(B_reduced)\n",
    "Y=B_reduced.dot(C[:nb_feature,:])"
   ]
  },
  {
   "cell_type": "code",
   "execution_count": 13,
   "metadata": {},
   "outputs": [],
   "source": [
    "def ALS(X,Y,matrix,label_positions,lambda_1=.01,lambda_2=0.1):\n",
    "    #fixing Y, optimizing X\n",
    "    Xnew=X.copy()\n",
    "    Ynew=Y.copy()\n",
    "    n_feature=X.shape[1]\n",
    "    I=np.diag(np.ones((n_feature,)))\n",
    "    for u in range(X.shape[0]):\n",
    "        ratings_user=matrix[u,:]\n",
    "        W_user=np.diag(label_positions[u,:].squeeze())\n",
    "        A=np.linalg.inv(Y.dot(W_user).dot(Y.T)+lambda_1*I)\n",
    "        Xnew[u,:]=ratings_user.dot(W_user).dot(Y.T).dot(A.T)\n",
    "        \n",
    "#         if u%100==0:\n",
    "#             print(str(u/100) +'per2cent done')\n",
    "    for m in range(Y.shape[1]):\n",
    "        ratings_movie=matrix[:,m]\n",
    "        W_movie=np.diag(label_positions[:,m].squeeze())\n",
    "        A=np.linalg.inv(Xnew.T.dot(W_movie).dot(Xnew)+lambda_2*I)\n",
    "        Ynew[:,m]=A.dot(Xnew.T).dot(W_movie).dot(ratings_movie)\n",
    "#         if m%10==0:\n",
    "#             print(str(m/10)+'per2cent done')\n",
    "    return Xnew,Ynew\n",
    "        \n",
    "        \n",
    "        "
   ]
  },
  {
   "cell_type": "code",
   "execution_count": 14,
   "metadata": {},
   "outputs": [],
   "source": [
    "def ALS_2(X,Y,matrix,label_positions,lambda_1=.01,lambda_2=0.1):\n",
    "    #fixing Y, optimizing X\n",
    "    Xnew=X.copy()\n",
    "    Ynew=Y.copy()\n",
    "    n_feature=X.shape[1]\n",
    "    I=np.diag(np.ones((n_feature,)))\n",
    "    for u in range(X.shape[0]):\n",
    "        ratings_user=matrix[u,:]\n",
    "        W_user=np.diag(label_positions[u,:].squeeze())\n",
    "        nb_user=np.sum(W_user)\n",
    "        A=np.linalg.inv(Y.dot(W_user).dot(Y.T)+nb_user*lambda_1*I)\n",
    "        Xnew[u,:]=ratings_user.dot(W_user).dot(Y.T).dot(A.T)\n",
    "        \n",
    "#         if u%100==0:\n",
    "#             print(str(u/100) +'per2cent done')\n",
    "    for m in range(Y.shape[1]):\n",
    "        ratings_movie=matrix[:,m]\n",
    "        W_movie=np.diag(label_positions[:,m].squeeze())\n",
    "        nb_movie=np.sum(W_movie)\n",
    "        A=np.linalg.inv(Xnew.T.dot(W_movie).dot(Xnew)+nb_movie*lambda_2*I)\n",
    "        Ynew[:,m]=A.dot(Xnew.T).dot(W_movie).dot(ratings_movie)\n",
    "#         if m%10==0:\n",
    "#             print(str(m/10)+'per2cent done')\n",
    "    return Xnew,Ynew"
   ]
  },
  {
   "cell_type": "code",
   "execution_count": 25,
   "metadata": {},
   "outputs": [
    {
     "name": "stdout",
     "output_type": "stream",
     "text": [
      "Wall time: 16min 3s\n"
     ]
    }
   ],
   "source": [
    "%%time\n",
    "Xnew,Ynew=ALS(X,Y,matrix,label_positions,lambda_=.1)"
   ]
  },
  {
   "cell_type": "code",
   "execution_count": 309,
   "metadata": {},
   "outputs": [
    {
     "data": {
      "text/plain": [
       "[<matplotlib.lines.Line2D at 0x7f9b23f8a6a0>]"
      ]
     },
     "execution_count": 309,
     "metadata": {},
     "output_type": "execute_result"
    },
    {
     "data": {
      "image/png": "[encoded data removed]",
      "text/plain": [
       "<Figure size 432x288 with 1 Axes>"
      ]
     },
     "metadata": {
      "needs_background": "light"
     },
     "output_type": "display_data"
    }
   ],
   "source": [
    "plt.plot(np.array([compute_error(Xnew,Ynew,matrix,label_positions),compute_error(Xnew2,Ynew2,matrix,label_positions),compute_error(Xnew3,Ynew3,matrix,label_positions)]))"
   ]
  },
  {
   "cell_type": "code",
   "execution_count": 15,
   "metadata": {},
   "outputs": [
    {
     "data": {
      "text/html": [
       "<div>\n",
       "<style scoped>\n",
       "    .dataframe tbody tr th:only-of-type {\n",
       "        vertical-align: middle;\n",
       "    }\n",
       "\n",
       "    .dataframe tbody tr th {\n",
       "        vertical-align: top;\n",
       "    }\n",
       "\n",
       "    .dataframe thead th {\n",
       "        text-align: right;\n",
       "    }\n",
       "</style>\n",
       "<table border=\"1\" class=\"dataframe\">\n",
       "  <thead>\n",
       "    <tr style=\"text-align: right;\">\n",
       "      <th></th>\n",
       "      <th>user_id</th>\n",
       "      <th>movie_id</th>\n",
       "      <th>prediction</th>\n",
       "    </tr>\n",
       "  </thead>\n",
       "  <tbody>\n",
       "    <tr>\n",
       "      <th>0</th>\n",
       "      <td>36</td>\n",
       "      <td>0</td>\n",
       "      <td>3</td>\n",
       "    </tr>\n",
       "    <tr>\n",
       "      <th>1</th>\n",
       "      <td>72</td>\n",
       "      <td>0</td>\n",
       "      <td>3</td>\n",
       "    </tr>\n",
       "    <tr>\n",
       "      <th>2</th>\n",
       "      <td>155</td>\n",
       "      <td>0</td>\n",
       "      <td>3</td>\n",
       "    </tr>\n",
       "    <tr>\n",
       "      <th>3</th>\n",
       "      <td>159</td>\n",
       "      <td>0</td>\n",
       "      <td>3</td>\n",
       "    </tr>\n",
       "    <tr>\n",
       "      <th>4</th>\n",
       "      <td>247</td>\n",
       "      <td>0</td>\n",
       "      <td>3</td>\n",
       "    </tr>\n",
       "  </tbody>\n",
       "</table>\n",
       "</div>"
      ],
      "text/plain": [
       "   user_id  movie_id  prediction\n",
       "0       36         0           3\n",
       "1       72         0           3\n",
       "2      155         0           3\n",
       "3      159         0           3\n",
       "4      247         0           3"
      ]
     },
     "execution_count": 15,
     "metadata": {},
     "output_type": "execute_result"
    }
   ],
   "source": [
    "dataset_to_predict = pd.read_csv(DATAPATH+\"cleaned_sample.csv\", names=\"user_id,movie_id,prediction\".split(','))\n",
    "dataset_to_predict ['user_id'] = dataset_to_predict ['user_id']-1\n",
    "dataset_to_predict ['movie_id'] = dataset_to_predict ['movie_id']-1\n",
    "dataset_to_predict .head()"
   ]
  },
  {
   "cell_type": "code",
   "execution_count": 27,
   "metadata": {},
   "outputs": [
    {
     "ename": "NameError",
     "evalue": "name 'Xnew3' is not defined",
     "output_type": "error",
     "traceback": [
      "\u001b[1;31m---------------------------------------------------------------------------\u001b[0m",
      "\u001b[1;31mNameError\u001b[0m                                 Traceback (most recent call last)",
      "\u001b[1;32m<ipython-input-27-8ff21fa63261>\u001b[0m in \u001b[0;36m<module>\u001b[1;34m()\u001b[0m\n\u001b[1;32m----> 1\u001b[1;33m \u001b[0mres_matrix\u001b[0m\u001b[1;33m=\u001b[0m\u001b[0mnp\u001b[0m\u001b[1;33m.\u001b[0m\u001b[0mround\u001b[0m\u001b[1;33m(\u001b[0m\u001b[0mnp\u001b[0m\u001b[1;33m.\u001b[0m\u001b[0mdot\u001b[0m\u001b[1;33m(\u001b[0m\u001b[0mXnew3\u001b[0m\u001b[1;33m,\u001b[0m\u001b[0mYnew3\u001b[0m\u001b[1;33m)\u001b[0m\u001b[1;33m)\u001b[0m\u001b[1;33m\u001b[0m\u001b[0m\n\u001b[0m\u001b[0;32m      2\u001b[0m \u001b[0mres_matrix\u001b[0m\u001b[1;33m[\u001b[0m\u001b[0mres_matrix\u001b[0m\u001b[1;33m>\u001b[0m\u001b[1;36m5\u001b[0m\u001b[1;33m]\u001b[0m\u001b[1;33m=\u001b[0m\u001b[1;36m5\u001b[0m\u001b[1;33m\u001b[0m\u001b[0m\n\u001b[0;32m      3\u001b[0m \u001b[0mres_matrix\u001b[0m\u001b[1;33m[\u001b[0m\u001b[0mres_matrix\u001b[0m\u001b[1;33m<\u001b[0m\u001b[1;36m1\u001b[0m\u001b[1;33m]\u001b[0m\u001b[1;33m=\u001b[0m\u001b[1;36m1\u001b[0m\u001b[1;33m\u001b[0m\u001b[0m\n\u001b[0;32m      4\u001b[0m \u001b[0mmatrix_pd\u001b[0m \u001b[1;33m=\u001b[0m \u001b[0mpd\u001b[0m\u001b[1;33m.\u001b[0m\u001b[0mDataFrame\u001b[0m\u001b[1;33m(\u001b[0m\u001b[0mres_matrix\u001b[0m\u001b[1;33m)\u001b[0m\u001b[1;33m\u001b[0m\u001b[0m\n\u001b[0;32m      5\u001b[0m \u001b[1;33m\u001b[0m\u001b[0m\n",
      "\u001b[1;31mNameError\u001b[0m: name 'Xnew3' is not defined"
     ]
    }
   ],
   "source": [
    "res_matrix=np.round(np.dot(Xnew3,Ynew3))\n",
    "res_matrix[res_matrix>5]=5\n",
    "res_matrix[res_matrix<1]=1\n",
    "matrix_pd = pd.DataFrame(res_matrix)\n",
    "\n",
    "\n",
    "matrix_pd.index.name = \"user_id\"\n",
    "matrix_pd.columns.name=\"movie_id\"\n",
    "# joined = dataset_to_predict.set_index(\"user_id\").join(matrix_pd,how=\"outer\")\n",
    "\n",
    "matrix_pd.head()"
   ]
  },
  {
   "cell_type": "code",
   "execution_count": 313,
   "metadata": {},
   "outputs": [],
   "source": [
    "res=matrix_pd.stack().to_frame().reset_index(level=[\"user_id\",\"movie_id\"])\n",
    "res.columns=[\"user_id\",\"movie_id\",\"final_predictions\"]\n",
    "predictors=pd.merge(dataset_to_predict,res,right_on=['user_id','movie_id'],left_on=['user_id','movie_id'],how='inner')\n"
   ]
  },
  {
   "cell_type": "code",
   "execution_count": 314,
   "metadata": {},
   "outputs": [],
   "source": [
    "predictors=predictors.drop(columns=['prediction'])"
   ]
  },
  {
   "cell_type": "code",
   "execution_count": 315,
   "metadata": {},
   "outputs": [],
   "source": [
    "predictors.columns=['user_id','movie_id','predictions']"
   ]
  },
  {
   "cell_type": "code",
   "execution_count": 16,
   "metadata": {},
   "outputs": [],
   "source": [
    "def create_submission(predictors,name):\n",
    "\n",
    "    f = open(DATAPATH+name, \"w\")\n",
    "    f.write(\"Id,Prediction\\n\")\n",
    "    for _,d in predictors.iterrows():\n",
    "        text = 'r'+str(int(d[0]+1))+'_c'+str(int(d[1]+1))+','+str(int(d[2]))+'\\n'\n",
    "        f.write(text)\n",
    "    f.close()"
   ]
  },
  {
   "cell_type": "code",
   "execution_count": 17,
   "metadata": {},
   "outputs": [],
   "source": [
    "def compute_error(X,Y,matrix,label_pos):\n",
    "\n",
    "    return np.sum((label_pos * (matrix - np.dot(X, Y)))**2)/np.sum(label_pos)"
   ]
  },
  {
   "cell_type": "code",
   "execution_count": 17,
   "metadata": {},
   "outputs": [
    {
     "ename": "NameError",
     "evalue": "name 'res' is not defined",
     "output_type": "error",
     "traceback": [
      "\u001b[0;31m---------------------------------------------------------------------------\u001b[0m",
      "\u001b[0;31mNameError\u001b[0m                                 Traceback (most recent call last)",
      "\u001b[0;32m<ipython-input-17-36dd32cc0216>\u001b[0m in \u001b[0;36m<module>\u001b[0;34m\u001b[0m\n\u001b[0;32m----> 1\u001b[0;31m \u001b[0mdataset_to_predict\u001b[0m\u001b[0;34m.\u001b[0m\u001b[0mmerge\u001b[0m\u001b[0;34m(\u001b[0m\u001b[0mres\u001b[0m\u001b[0;34m,\u001b[0m\u001b[0mright_on\u001b[0m\u001b[0;34m=\u001b[0m\u001b[0;34m[\u001b[0m\u001b[0;34m'user_id'\u001b[0m\u001b[0;34m,\u001b[0m\u001b[0;34m'movie_id'\u001b[0m\u001b[0;34m]\u001b[0m\u001b[0;34m,\u001b[0m\u001b[0mleft_on\u001b[0m\u001b[0;34m=\u001b[0m\u001b[0;34m[\u001b[0m\u001b[0;34m'user_id'\u001b[0m\u001b[0;34m,\u001b[0m\u001b[0;34m'movie_id'\u001b[0m\u001b[0;34m]\u001b[0m\u001b[0;34m,\u001b[0m\u001b[0mhow\u001b[0m\u001b[0;34m=\u001b[0m\u001b[0;34m'inner'\u001b[0m\u001b[0;34m)\u001b[0m\u001b[0;34m\u001b[0m\u001b[0m\n\u001b[0m",
      "\u001b[0;31mNameError\u001b[0m: name 'res' is not defined"
     ]
    }
   ],
   "source": [
    "dataset_to_predict.merge(res,right_on=['user_id','movie_id'],left_on=['user_id','movie_id'],how='inner')"
   ]
  },
  {
   "cell_type": "code",
   "execution_count": 18,
   "metadata": {},
   "outputs": [],
   "source": [
    "def piping(matrix,test_matrix,nb_feature,label_pos,test_pos,dataset_to_predict,lambda_1,lambda_2,iterations,name):\n",
    "    \n",
    "    A,B,C=np.linalg.svd(matrix,full_matrices=False)\n",
    " \n",
    "    B_reduced=np.sqrt(np.diag(B[:nb_feature]))\n",
    "\n",
    "    X=A[:,:nb_feature].dot(B_reduced)\n",
    "    Y=B_reduced.dot(C[:nb_feature,:])\n",
    "    \n",
    "    \n",
    "    \n",
    "    X_=X.copy()\n",
    "    Y_=Y.copy()\n",
    "    training_errors=[]\n",
    "    test_errors=[]\n",
    "    for i in range(iterations):\n",
    "        X_,Y_=ALS_2(X_,Y_,matrix,label_pos,lambda_1,lambda_2)\n",
    "        \n",
    "        res_matrix=np.round(np.dot(X_,Y_))\n",
    "        res_matrix[res_matrix>5]=5\n",
    "        res_matrix[res_matrix<1]=1\n",
    "        training_errors.append(compute_error(X_,Y_,matrix,label_pos))\n",
    "        test_errors.append(compute_error(X_,Y_,test_matrix,test_pos))\n",
    "        print('iteration ',i,'lambda 1',lambda_1,'lambda2 ',lambda_2,'errors',compute_error(X_,Y_,matrix,label_pos),' ',compute_error(X_,Y_,test_matrix,test_pos))\n",
    "#     res_matrix=np.round(np.dot(X_,Y_))\n",
    "#     res_matrix[res_matrix>5]=5\n",
    "#     res_matrix[res_matrix<1]=1\n",
    "    matrix_pd = pd.DataFrame(res_matrix)\n",
    "\n",
    "\n",
    "    matrix_pd.index.name = \"user_id\"\n",
    "    matrix_pd.columns.name=\"movie_id\"\n",
    "    \n",
    "    res=matrix_pd.stack().to_frame().reset_index(level=[\"user_id\",\"movie_id\"])\n",
    "    res.columns=[\"user_id\",\"movie_id\",\"final_predictions\"]\n",
    "    predictors= pd.merge(dataset_to_predict,res,right_on=['user_id','movie_id'],left_on=['user_id','movie_id'],how='inner')\n",
    "    plt.plot(np.array(training_errors))\n",
    "    plt.plot(np.array(test_errors))\n",
    "    predictors=predictors.drop(columns=['prediction'])\n",
    "    create_submission(predictors,name)\n",
    "    \n",
    "    "
   ]
  },
  {
   "cell_type": "code",
   "execution_count": 17,
   "metadata": {},
   "outputs": [
    {
     "data": {
      "text/plain": [
       "array([ 0.01,  0.1 ,  1.  , 10.  ])"
      ]
     },
     "execution_count": 17,
     "metadata": {},
     "output_type": "execute_result"
    }
   ],
   "source": [
    "np.logspace(-2,1,4)"
   ]
  },
  {
   "cell_type": "code",
   "execution_count": null,
   "metadata": {},
   "outputs": [
    {
     "name": "stdout",
     "output_type": "stream",
     "text": [
      "iteration  0 lambda 1 0.0001 lambda2  0.0001 errors 0.9535125135871492   1.000138140185089\n",
      "iteration  1 lambda 1 0.0001 lambda2  0.0001 errors 0.925860948512028   0.9852630022677324\n",
      "iteration  2 lambda 1 0.0001 lambda2  0.0001 errors 0.9220860515068792   0.9836510475961738\n",
      "iteration  3 lambda 1 0.0001 lambda2  0.0001 errors 0.9202252871616134   0.9826212356927277\n",
      "iteration  4 lambda 1 0.0001 lambda2  0.0001 errors 0.9193004030629663   0.98210442788729\n",
      "iteration  0 lambda 1 0.0001 lambda2  0.00046415888336127773 errors 0.9535353468957388   0.99982937379353\n",
      "iteration  1 lambda 1 0.0001 lambda2  0.00046415888336127773 errors 0.9258757915761876   0.9850661146192865\n",
      "iteration  2 lambda 1 0.0001 lambda2  0.00046415888336127773 errors 0.9221041958157613   0.9834623778596807\n",
      "iteration  3 lambda 1 0.0001 lambda2  0.00046415888336127773 errors 0.920242023239051   0.9824289294172018\n",
      "iteration  4 lambda 1 0.0001 lambda2  0.00046415888336127773 errors 0.9193152365102394   0.9819059723930704\n",
      "iteration  0 lambda 1 0.0001 lambda2  0.002154434690031882 errors 0.9539769873189433   0.998836835007309\n",
      "iteration  1 lambda 1 0.0001 lambda2  0.002154434690031882 errors 0.9261004834481925   0.9844330327208817\n",
      "iteration  2 lambda 1 0.0001 lambda2  0.002154434690031882 errors 0.9223088475891574   0.9828721812554309\n",
      "iteration  3 lambda 1 0.0001 lambda2  0.002154434690031882 errors 0.9204193902396736   0.981843446971771\n",
      "iteration  4 lambda 1 0.0001 lambda2  0.002154434690031882 errors 0.9194693498471697   0.9813190788173176\n",
      "iteration  0 lambda 1 0.0001 lambda2  0.01 errors 0.960128270365607   0.9999699211423267\n",
      "iteration  1 lambda 1 0.0001 lambda2  0.01 errors 0.9278800578456681   0.9838882538436943\n",
      "iteration  2 lambda 1 0.0001 lambda2  0.01 errors 0.9235357111761878   0.9822548489944917\n",
      "iteration  3 lambda 1 0.0001 lambda2  0.01 errors 0.921317783192815   0.9811887508855659\n",
      "iteration  4 lambda 1 0.0001 lambda2  0.01 errors 0.9201543466490465   0.9806523458806926\n",
      "iteration  0 lambda 1 0.00046415888336127773 lambda2  0.0001 errors 0.9534940813362868   0.9984906117118874\n",
      "iteration  1 lambda 1 0.00046415888336127773 lambda2  0.0001 errors 0.9258557135109794   0.9852043037672212\n",
      "iteration  2 lambda 1 0.00046415888336127773 lambda2  0.0001 errors 0.9220887205532401   0.9836164584850067\n",
      "iteration  3 lambda 1 0.00046415888336127773 lambda2  0.0001 errors 0.9202307826204383   0.9825894784811792\n",
      "iteration  4 lambda 1 0.00046415888336127773 lambda2  0.0001 errors 0.9193058050414094   0.9820698286516483\n",
      "iteration  0 lambda 1 0.00046415888336127773 lambda2  0.00046415888336127773 errors 0.9535169411303017   0.9982128333996142\n"
     ]
    }
   ],
   "source": [
    "for lambda_1 in np.logspace(-4,-2,4):\n",
    "    for lambda_2 in np.logspace(-4,-2,4):\n",
    "\n",
    "        piping(matrix,test_matrix,3,train_label_positions,test_label_positions,dataset_to_predict,lambda_1,lambda_2,5,\"test.csv\")"
   ]
  },
  {
   "cell_type": "code",
   "execution_count": null,
   "metadata": {},
   "outputs": [
    {
     "name": "stdout",
     "output_type": "stream",
     "text": [
      "iteration  0 lambda 1 0.01 lambda2  0.01 errors 0.9591368342616947   1.0038849431460912\n"
     ]
    }
   ],
   "source": [
    "for lambda_1 in np.logspace(-2,0,4):\n",
    "    for lambda_2 in np.logspace(-2,0,4):\n",
    "\n",
    "        piping(matrix,test_matrix,3,train_label_positions,test_label_positions,dataset_to_predict,lambda_1,lambda_2,5,\"test.csv\")"
   ]
  },
  {
   "cell_type": "code",
   "execution_count": 19,
   "metadata": {},
   "outputs": [
    {
     "name": "stdout",
     "output_type": "stream",
     "text": [
      "iteration  0 lambda 1 3.1622776601683795 lambda2  10.0 errors 0.9605636045228422   0.9980715962064086\n",
      "iteration  1 lambda 1 3.1622776601683795 lambda2  10.0 errors 0.9346196027005587   0.9824967637415981\n",
      "iteration  2 lambda 1 3.1622776601683795 lambda2  10.0 errors 0.9304518080048272   0.9803757555274885\n",
      "iteration  3 lambda 1 3.1622776601683795 lambda2  10.0 errors 0.9278650639135012   0.9787138844892016\n",
      "iteration  4 lambda 1 3.1622776601683795 lambda2  10.0 errors 0.9259859224842402   0.9772914857072214\n",
      "iteration  0 lambda 1 3.1622776601683795 lambda2  17.11328304161781 errors 0.9646666162763586   1.0014423224558293\n",
      "iteration  1 lambda 1 3.1622776601683795 lambda2  17.11328304161781 errors 0.9358830308918236   0.9825109967857214\n",
      "iteration  2 lambda 1 3.1622776601683795 lambda2  17.11328304161781 errors 0.9309990290353005   0.9794120038519541\n",
      "iteration  3 lambda 1 3.1622776601683795 lambda2  17.11328304161781 errors 0.9282242413935707   0.977359859364306\n",
      "iteration  4 lambda 1 3.1622776601683795 lambda2  17.11328304161781 errors 0.9263968765303726   0.9758690968393221\n",
      "iteration  0 lambda 1 3.1622776601683795 lambda2  29.286445646252357 errors 0.9720499760577002   1.0077120822859698\n",
      "iteration  1 lambda 1 3.1622776601683795 lambda2  29.286445646252357 errors 0.9379555214785399   0.9828683810011213\n",
      "iteration  2 lambda 1 3.1622776601683795 lambda2  29.286445646252357 errors 0.932163168464445   0.9785630250269711\n",
      "iteration  3 lambda 1 3.1622776601683795 lambda2  29.286445646252357 errors 0.9292311563711986   0.9762192718402558\n",
      "iteration  4 lambda 1 3.1622776601683795 lambda2  29.286445646252357 errors 0.9274902725089004   0.9747839147614041\n",
      "iteration  0 lambda 1 3.1622776601683795 lambda2  50.11872336272722 errors 0.9841542429561755   1.0182038915606704\n",
      "iteration  1 lambda 1 3.1622776601683795 lambda2  50.11872336272722 errors 0.941014831443319   0.9837811864798953\n",
      "iteration  2 lambda 1 3.1622776601683795 lambda2  50.11872336272722 errors 0.9343037369515346   0.9783239224034931\n",
      "iteration  3 lambda 1 3.1622776601683795 lambda2  50.11872336272722 errors 0.931334527286686   0.97589174219782\n",
      "iteration  4 lambda 1 3.1622776601683795 lambda2  50.11872336272722 errors 0.9297490611972135   0.974616078165235\n",
      "iteration  0 lambda 1 5.411695265464636 lambda2  10.0 errors 0.9628425739005129   0.9990696911614927\n",
      "iteration  1 lambda 1 5.411695265464636 lambda2  10.0 errors 0.9396360397027438   0.9847623440970255\n",
      "iteration  2 lambda 1 5.411695265464636 lambda2  10.0 errors 0.9349449273917596   0.9822796829298205\n",
      "iteration  3 lambda 1 5.411695265464636 lambda2  10.0 errors 0.9317124336917759   0.9802820851337797\n",
      "iteration  4 lambda 1 5.411695265464636 lambda2  10.0 errors 0.9291832069606156   0.9784397045200038\n",
      "iteration  0 lambda 1 5.411695265464636 lambda2  17.11328304161781 errors 0.9672626129548396   1.0028991697189649\n",
      "iteration  1 lambda 1 5.411695265464636 lambda2  17.11328304161781 errors 0.9413034525939432   0.9854061248559735\n",
      "iteration  2 lambda 1 5.411695265464636 lambda2  17.11328304161781 errors 0.9358103746901236   0.981811490599928\n",
      "iteration  3 lambda 1 5.411695265464636 lambda2  17.11328304161781 errors 0.9323062999577512   0.9791897998099446\n",
      "iteration  4 lambda 1 5.411695265464636 lambda2  17.11328304161781 errors 0.9298243176632759   0.9771247298446457\n",
      "iteration  0 lambda 1 5.411695265464636 lambda2  29.286445646252357 errors 0.975210849657942   1.0099314666596366\n",
      "iteration  1 lambda 1 5.411695265464636 lambda2  29.286445646252357 errors 0.9438205409467266   0.986416056658523\n",
      "iteration  2 lambda 1 5.411695265464636 lambda2  29.286445646252357 errors 0.9372711127413804   0.981341996502202\n",
      "iteration  3 lambda 1 5.411695265464636 lambda2  29.286445646252357 errors 0.9336195015950041   0.9782437420928176\n",
      "iteration  4 lambda 1 5.411695265464636 lambda2  29.286445646252357 errors 0.9313436315669997   0.9762076340798838\n",
      "iteration  0 lambda 1 5.411695265464636 lambda2  50.11872336272722 errors 0.9882325967963014   1.0215866164922756\n",
      "iteration  1 lambda 1 5.411695265464636 lambda2  50.11872336272722 errors 0.94736053894474   0.9878536722781448\n",
      "iteration  2 lambda 1 5.411695265464636 lambda2  50.11872336272722 errors 0.9398085662661045   0.981330982530153\n",
      "iteration  3 lambda 1 5.411695265464636 lambda2  50.11872336272722 errors 0.9363026546193145   0.9781631753999563\n",
      "iteration  4 lambda 1 5.411695265464636 lambda2  50.11872336272722 errors 0.9344093816614035   0.9764411932328285\n",
      "iteration  0 lambda 1 9.261187281287933 lambda2  10.0 errors 0.9668247246614322   1.001346676967638\n",
      "iteration  1 lambda 1 9.261187281287933 lambda2  10.0 errors 0.945253872591859   0.9867974962279835\n",
      "iteration  2 lambda 1 9.261187281287933 lambda2  10.0 errors 0.939033159015995   0.9831825933767935\n",
      "iteration  3 lambda 1 9.261187281287933 lambda2  10.0 errors 0.9350034560343352   0.9810052514867403\n",
      "iteration  4 lambda 1 9.261187281287933 lambda2  10.0 errors 0.9321306926351108   0.9791131718868575\n",
      "iteration  0 lambda 1 9.261187281287933 lambda2  17.11328304161781 errors 0.9717531139575637   1.0058794226136827\n",
      "iteration  1 lambda 1 9.261187281287933 lambda2  17.11328304161781 errors 0.9478180928899218   0.9885127087496526\n",
      "iteration  2 lambda 1 9.261187281287933 lambda2  17.11328304161781 errors 0.9408628920876778   0.9836404759234725\n",
      "iteration  3 lambda 1 9.261187281287933 lambda2  17.11328304161781 errors 0.9364744683707042   0.98052221832375\n",
      "iteration  4 lambda 1 9.261187281287933 lambda2  17.11328304161781 errors 0.933542255671505   0.9781925989140567\n",
      "iteration  0 lambda 1 9.261187281287933 lambda2  29.286445646252357 errors 0.9806325909498429   1.0141245885203811\n",
      "iteration  1 lambda 1 9.261187281287933 lambda2  29.286445646252357 errors 0.9515162489430345   0.9909660001303953\n",
      "iteration  2 lambda 1 9.261187281287933 lambda2  29.286445646252357 errors 0.9435169294427168   0.9844296724763459\n",
      "iteration  3 lambda 1 9.261187281287933 lambda2  29.286445646252357 errors 0.938977950252867   0.9805810869975081\n",
      "iteration  4 lambda 1 9.261187281287933 lambda2  29.286445646252357 errors 0.9362740065748016   0.9781646342612407\n",
      "iteration  0 lambda 1 9.261187281287933 lambda2  50.11872336272722 errors 0.9952087534530358   1.0276961470506332\n",
      "iteration  1 lambda 1 9.261187281287933 lambda2  50.11872336272722 errors 0.9564476939543802   0.9939848609581625\n",
      "iteration  2 lambda 1 9.261187281287933 lambda2  50.11872336272722 errors 0.9474219377424848   0.9857414793406729\n",
      "iteration  3 lambda 1 9.261187281287933 lambda2  50.11872336272722 errors 0.9432094522131652   0.9817809537363651\n",
      "iteration  4 lambda 1 9.261187281287933 lambda2  50.11872336272722 errors 0.9410641830247346   0.979752388751662\n",
      "iteration  0 lambda 1 15.848931924611133 lambda2  10.0 errors 0.973105152177912   1.0055035677752515\n",
      "iteration  1 lambda 1 15.848931924611133 lambda2  10.0 errors 0.9503741994638418   0.9882392922889173\n",
      "iteration  2 lambda 1 15.848931924611133 lambda2  10.0 errors 0.9422557428156405   0.983512500547952\n",
      "iteration  3 lambda 1 15.848931924611133 lambda2  10.0 errors 0.9379491898476517   0.9815601967490889\n",
      "iteration  4 lambda 1 15.848931924611133 lambda2  10.0 errors 0.9353800253512136   0.9799520357372739\n",
      "iteration  0 lambda 1 15.848931924611133 lambda2  17.11328304161781 errors 0.9787826884099307   1.0110128736416184\n",
      "iteration  1 lambda 1 15.848931924611133 lambda2  17.11328304161781 errors 0.9542165643253109   0.9911854891636214\n",
      "iteration  2 lambda 1 15.848931924611133 lambda2  17.11328304161781 errors 0.9453587136644447   0.9848034306273615\n",
      "iteration  3 lambda 1 15.848931924611133 lambda2  17.11328304161781 errors 0.9405979496857948   0.9816818269354515\n",
      "iteration  4 lambda 1 15.848931924611133 lambda2  17.11328304161781 errors 0.9378719501231889   0.9795930679218473\n",
      "iteration  0 lambda 1 15.848931924611133 lambda2  29.286445646252357 errors 0.9890758749963834   1.0210192449807496\n",
      "iteration  1 lambda 1 15.848931924611133 lambda2  29.286445646252357 errors 0.9599260509270047   0.9957573281791674\n",
      "iteration  2 lambda 1 15.848931924611133 lambda2  29.286445646252357 errors 0.9500520821170414   0.9873618131340827\n",
      "iteration  3 lambda 1 15.848931924611133 lambda2  29.286445646252357 errors 0.9450807194914796   0.9832696167523811\n"
     ]
    },
    {
     "name": "stdout",
     "output_type": "stream",
     "text": [
      "iteration  4 lambda 1 15.848931924611133 lambda2  29.286445646252357 errors 0.9424949144786332   0.9810228564633373\n",
      "iteration  0 lambda 1 15.848931924611133 lambda2  50.11872336272722 errors 1.0060788157900318   1.0374891962366266\n",
      "iteration  1 lambda 1 15.848931924611133 lambda2  50.11872336272722 errors 0.9677058389361605   1.0018275745952012\n",
      "iteration  2 lambda 1 15.848931924611133 lambda2  50.11872336272722 errors 0.9568481088527189   0.9914502340392739\n",
      "iteration  3 lambda 1 15.848931924611133 lambda2  50.11872336272722 errors 0.9522517587461231   0.9870928465828903\n",
      "iteration  4 lambda 1 15.848931924611133 lambda2  50.11872336272722 errors 0.9502088255455797   0.9851672519740844\n"
     ]
    },
    {
     "data": {
      "image/png": "[encoded data removed]",
      "text/plain": [
       "<Figure size 432x288 with 1 Axes>"
      ]
     },
     "metadata": {
      "needs_background": "light"
     },
     "output_type": "display_data"
    }
   ],
   "source": [
    "for lambda_1 in np.logspace(0.5,1.2,4):\n",
    "    for lambda_2 in np.logspace(1.,1.7,4):\n",
    "\n",
    "        piping(train_matrix,test_matrix,3,train_label_positions,test_label_positions,dataset_to_predict,lambda_1,lambda_2,5,\"test.csv\")"
   ]
  },
  {
   "cell_type": "code",
   "execution_count": 20,
   "metadata": {},
   "outputs": [
    {
     "name": "stdout",
     "output_type": "stream",
     "text": [
      "iteration  0 lambda 1 1.9952623149688795 lambda2  31.622776601683793 errors 0.9718734206721914   1.0079390653626419\n",
      "iteration  1 lambda 1 1.9952623149688795 lambda2  31.622776601683793 errors 0.9350444949586054   0.9810345386486232\n",
      "iteration  2 lambda 1 1.9952623149688795 lambda2  31.622776601683793 errors 0.9294454076493701   0.9769516061112067\n",
      "iteration  3 lambda 1 1.9952623149688795 lambda2  31.622776601683793 errors 0.9268468574785176   0.9750696196724968\n",
      "iteration  4 lambda 1 1.9952623149688795 lambda2  31.622776601683793 errors 0.925404823463386   0.97406072188589\n",
      "iteration  0 lambda 1 1.9952623149688795 lambda2  42.986623470822764 errors 0.9782961939544426   1.0133839537903004\n",
      "iteration  1 lambda 1 1.9952623149688795 lambda2  42.986623470822764 errors 0.9366693545911043   0.9814709293707604\n",
      "iteration  2 lambda 1 1.9952623149688795 lambda2  42.986623470822764 errors 0.9305541919684133   0.9768267080841609\n",
      "iteration  3 lambda 1 1.9952623149688795 lambda2  42.986623470822764 errors 0.9278556061489245   0.9748717551646299\n",
      "iteration  4 lambda 1 1.9952623149688795 lambda2  42.986623470822764 errors 0.9264181105599623   0.9738947841252719\n",
      "iteration  0 lambda 1 1.9952623149688795 lambda2  58.434141337351754 errors 0.9865018976407447   1.02043550031158\n",
      "iteration  1 lambda 1 1.9952623149688795 lambda2  58.434141337351754 errors 0.9386695750892949   0.9822431410834203\n",
      "iteration  2 lambda 1 1.9952623149688795 lambda2  58.434141337351754 errors 0.9320731108179933   0.9770915372648742\n",
      "iteration  3 lambda 1 1.9952623149688795 lambda2  58.434141337351754 errors 0.9293102707007892   0.9750852032394861\n",
      "iteration  4 lambda 1 1.9952623149688795 lambda2  58.434141337351754 errors 0.9278961112320548   0.9741334705516108\n",
      "iteration  0 lambda 1 1.9952623149688795 lambda2  79.43282347242814 errors 0.9966763615615732   1.0293019481644794\n",
      "iteration  1 lambda 1 1.9952623149688795 lambda2  79.43282347242814 errors 0.9412208174194919   0.9835783388353326\n",
      "iteration  2 lambda 1 1.9952623149688795 lambda2  79.43282347242814 errors 0.9342480194219672   0.977999787084996\n",
      "iteration  3 lambda 1 1.9952623149688795 lambda2  79.43282347242814 errors 0.9314620170854867   0.9759421916836744\n",
      "iteration  4 lambda 1 1.9952623149688795 lambda2  79.43282347242814 errors 0.9300783088831968   0.9749894449411999\n",
      "iteration  0 lambda 1 2.712272579332028 lambda2  31.622776601683793 errors 0.9728315308680242   1.0085125461842026\n",
      "iteration  1 lambda 1 2.712272579332028 lambda2  31.622776601683793 errors 0.9370593034036608   0.9821975278950794\n",
      "iteration  2 lambda 1 2.712272579332028 lambda2  31.622776601683793 errors 0.9312648008002747   0.9778690133565067\n",
      "iteration  3 lambda 1 2.712272579332028 lambda2  31.622776601683793 errors 0.9284579223903653   0.9756804952391156\n",
      "iteration  4 lambda 1 2.712272579332028 lambda2  31.622776601683793 errors 0.9268461196789334   0.9744141216660193\n",
      "iteration  0 lambda 1 2.712272579332028 lambda2  42.986623470822764 errors 0.9794098263531645   1.014161482913448\n",
      "iteration  1 lambda 1 2.712272579332028 lambda2  42.986623470822764 errors 0.9387225849403545   0.9826499146537236\n",
      "iteration  2 lambda 1 2.712272579332028 lambda2  42.986623470822764 errors 0.9324008862804419   0.977690898128307\n",
      "iteration  3 lambda 1 2.712272579332028 lambda2  42.986623470822764 errors 0.9295388322131729   0.975439568972233\n",
      "iteration  4 lambda 1 2.712272579332028 lambda2  42.986623470822764 errors 0.9279818435374766   0.974241222880232\n",
      "iteration  0 lambda 1 2.712272579332028 lambda2  58.434141337351754 errors 0.9878108812320245   1.0214600334919515\n",
      "iteration  1 lambda 1 2.712272579332028 lambda2  58.434141337351754 errors 0.9407860995178173   0.9834260622769609\n",
      "iteration  2 lambda 1 2.712272579332028 lambda2  58.434141337351754 errors 0.9340033700939203   0.9779224337279833\n",
      "iteration  3 lambda 1 2.712272579332028 lambda2  58.434141337351754 errors 0.9311396253959298   0.9756573261956948\n",
      "iteration  4 lambda 1 2.712272579332028 lambda2  58.434141337351754 errors 0.9296613711888772   0.9745337372544614\n",
      "iteration  0 lambda 1 2.712272579332028 lambda2  79.43282347242814 errors 0.9982252303925447   1.0306190578370134\n",
      "iteration  1 lambda 1 2.712272579332028 lambda2  79.43282347242814 errors 0.9434474444811932   0.9847690567053832\n",
      "iteration  2 lambda 1 2.712272579332028 lambda2  79.43282347242814 errors 0.9363444286360304   0.9788450674600453\n",
      "iteration  3 lambda 1 2.712272579332028 lambda2  79.43282347242814 errors 0.9335348466093534   0.9765925762559479\n",
      "iteration  4 lambda 1 2.712272579332028 lambda2  79.43282347242814 errors 0.9321452786446727   0.9755286532493783\n",
      "iteration  0 lambda 1 3.686945064519575 lambda2  31.622776601683793 errors 0.9742039121034941   1.0094329682501757\n",
      "iteration  1 lambda 1 3.686945064519575 lambda2  31.622776601683793 errors 0.9397823455495764   0.983840139224485\n",
      "iteration  2 lambda 1 3.686945064519575 lambda2  31.622776601683793 errors 0.9336833739233483   0.9791764338538385\n",
      "iteration  3 lambda 1 3.686945064519575 lambda2  31.622776601683793 errors 0.930567952262711   0.9766063507546856\n",
      "iteration  4 lambda 1 3.686945064519575 lambda2  31.622776601683793 errors 0.9287140454473123   0.9750253449104405\n",
      "iteration  0 lambda 1 3.686945064519575 lambda2  42.986623470822764 errors 0.9809986335251969   1.0153618065506993\n",
      "iteration  1 lambda 1 3.686945064519575 lambda2  42.986623470822764 errors 0.9415239521484229   0.9843675604450752\n",
      "iteration  2 lambda 1 3.686945064519575 lambda2  42.986623470822764 errors 0.9348726819464143   0.9789818357354788\n",
      "iteration  3 lambda 1 3.686945064519575 lambda2  42.986623470822764 errors 0.9317531641720316   0.9763548110566816\n",
      "iteration  4 lambda 1 3.686945064519575 lambda2  42.986623470822764 errors 0.9300180539951421   0.9748869341649778\n",
      "iteration  0 lambda 1 3.686945064519575 lambda2  58.434141337351754 errors 0.9896737869660982   1.0230022993353174\n",
      "iteration  1 lambda 1 3.686945064519575 lambda2  58.434141337351754 errors 0.9436891589759211   0.9851973020598485\n",
      "iteration  2 lambda 1 3.686945064519575 lambda2  58.434141337351754 errors 0.9365897048795487   0.9792128412105614\n",
      "iteration  3 lambda 1 3.686945064519575 lambda2  58.434141337351754 errors 0.9335462311198576   0.9766190988888953\n",
      "iteration  4 lambda 1 3.686945064519575 lambda2  58.434141337351754 errors 0.9319620932301066   0.975291986673184\n",
      "iteration  0 lambda 1 3.686945064519575 lambda2  79.43282347242814 errors 1.000427251436788   1.0325698460109387\n",
      "iteration  1 lambda 1 3.686945064519575 lambda2  79.43282347242814 errors 0.9465026361864862   0.9865928109240757\n",
      "iteration  2 lambda 1 3.686945064519575 lambda2  79.43282347242814 errors 0.9391432281929009   0.9801926731805926\n",
      "iteration  3 lambda 1 3.686945064519575 lambda2  79.43282347242814 errors 0.9362536943864203   0.9776975180964077\n",
      "iteration  4 lambda 1 3.686945064519575 lambda2  79.43282347242814 errors 0.9348341088727858   0.9765107329058527\n",
      "iteration  0 lambda 1 5.011872336272722 lambda2  31.622776601683793 errors 0.9761359338874834   1.0108363532098374\n",
      "iteration  1 lambda 1 5.011872336272722 lambda2  31.622776601683793 errors 0.9432700298430367   0.985982001607473\n",
      "iteration  2 lambda 1 5.011872336272722 lambda2  31.622776601683793 errors 0.9367092633161469   0.9808364521137619\n",
      "iteration  3 lambda 1 5.011872336272722 lambda2  31.622776601683793 errors 0.9331760528261979   0.9778176371580423\n",
      "iteration  4 lambda 1 5.011872336272722 lambda2  31.622776601683793 errors 0.9310222389892628   0.9758934263699954\n",
      "iteration  0 lambda 1 5.011872336272722 lambda2  42.986623470822764 errors 0.9832293506923091   1.017145712317138\n",
      "iteration  1 lambda 1 5.011872336272722 lambda2  42.986623470822764 errors 0.9451739433418711   0.9866962733215378\n",
      "iteration  2 lambda 1 5.011872336272722 lambda2  42.986623470822764 errors 0.9380260399975175   0.9807238429061337\n",
      "iteration  3 lambda 1 5.011872336272722 lambda2  42.986623470822764 errors 0.9345445092568457   0.9776461480647207\n",
      "iteration  4 lambda 1 5.011872336272722 lambda2  42.986623470822764 errors 0.9325841697206505   0.9758828808538632\n",
      "iteration  0 lambda 1 5.011872336272722 lambda2  58.434141337351754 errors 0.9922859401209645   1.025255596511184\n",
      "iteration  1 lambda 1 5.011872336272722 lambda2  58.434141337351754 errors 0.9475210428312217   0.987682184025368\n"
     ]
    },
    {
     "name": "stdout",
     "output_type": "stream",
     "text": [
      "iteration  2 lambda 1 5.011872336272722 lambda2  58.434141337351754 errors 0.9399288896439641   0.981041279716106\n",
      "iteration  3 lambda 1 5.011872336272722 lambda2  58.434141337351754 errors 0.9366166326931473   0.9780507912554146\n",
      "iteration  4 lambda 1 5.011872336272722 lambda2  58.434141337351754 errors 0.9348952740312301   0.9765064921973944\n",
      "iteration  0 lambda 1 5.011872336272722 lambda2  79.43282347242814 errors 1.00351483770697   1.035388958538578\n",
      "iteration  1 lambda 1 5.011872336272722 lambda2  79.43282347242814 errors 0.9505663531517206   0.9892248892732568\n",
      "iteration  2 lambda 1 5.011872336272722 lambda2  79.43282347242814 errors 0.9427765347152737   0.9821694956282827\n",
      "iteration  3 lambda 1 5.011872336272722 lambda2  79.43282347242814 errors 0.9397433365732218   0.9793855565765804\n",
      "iteration  4 lambda 1 5.011872336272722 lambda2  79.43282347242814 errors 0.9382799330478244   0.9780790498030003\n"
     ]
    },
    {
     "data": {
      "image/png": "[encoded data removed]",
      "text/plain": [
       "<Figure size 432x288 with 1 Axes>"
      ]
     },
     "metadata": {
      "needs_background": "light"
     },
     "output_type": "display_data"
    }
   ],
   "source": [
    "for lambda_1 in np.logspace(0.3,0.7,4):\n",
    "    for lambda_2 in np.logspace(1.5,1.9,4):\n",
    "\n",
    "        piping(train_matrix,test_matrix,3,train_label_positions,test_label_positions,dataset_to_predict,lambda_1,lambda_2,5,\"test.csv\")"
   ]
  },
  {
   "cell_type": "code",
   "execution_count": 21,
   "metadata": {},
   "outputs": [
    {
     "name": "stdout",
     "output_type": "stream",
     "text": [
      "iteration  0 lambda 1 10.0 lambda2  10.0 errors 0.9675685497424412   1.0018108032467203\n",
      "iteration  1 lambda 1 10.0 lambda2  10.0 errors 0.9460278229082807   0.9870320561451457\n",
      "iteration  2 lambda 1 10.0 lambda2  10.0 errors 0.9395263153721293   0.9832304182094713\n",
      "iteration  3 lambda 1 10.0 lambda2  10.0 errors 0.9354114241397906   0.9810643758602733\n",
      "iteration  4 lambda 1 10.0 lambda2  10.0 errors 0.9325470900458787   0.9792018277011539\n",
      "iteration  5 lambda 1 10.0 lambda2  10.0 errors 0.9304253924729508   0.9774535511440404\n",
      "iteration  6 lambda 1 10.0 lambda2  10.0 errors 0.9288221997984668   0.9759765373694531\n",
      "iteration  7 lambda 1 10.0 lambda2  10.0 errors 0.9276373687337086   0.9748718888565294\n",
      "iteration  8 lambda 1 10.0 lambda2  10.0 errors 0.9267946796561097   0.974122827885075\n",
      "iteration  9 lambda 1 10.0 lambda2  10.0 errors 0.926216507321817   0.9736497723318718\n",
      "iteration  0 lambda 1 1.9952623149688795 lambda2  42.986623470822764 errors 0.9782961939544426   1.0133839537903004\n",
      "iteration  1 lambda 1 1.9952623149688795 lambda2  42.986623470822764 errors 0.9366693545911043   0.9814709293707604\n",
      "iteration  2 lambda 1 1.9952623149688795 lambda2  42.986623470822764 errors 0.9305541919684133   0.9768267080841609\n",
      "iteration  3 lambda 1 1.9952623149688795 lambda2  42.986623470822764 errors 0.9278556061489245   0.9748717551646299\n",
      "iteration  4 lambda 1 1.9952623149688795 lambda2  42.986623470822764 errors 0.9264181105599623   0.9738947841252719\n",
      "iteration  5 lambda 1 1.9952623149688795 lambda2  42.986623470822764 errors 0.9255903104593393   0.9733784625377601\n",
      "iteration  6 lambda 1 1.9952623149688795 lambda2  42.986623470822764 errors 0.925097983395503   0.9731064191728865\n",
      "iteration  7 lambda 1 1.9952623149688795 lambda2  42.986623470822764 errors 0.9248020026358488   0.9729697637684028\n",
      "iteration  8 lambda 1 1.9952623149688795 lambda2  42.986623470822764 errors 0.924624023916712   0.9729084814189539\n",
      "iteration  9 lambda 1 1.9952623149688795 lambda2  42.986623470822764 errors 0.9245176528111605   0.972888406936939\n"
     ]
    },
    {
     "data": {
      "image/png": "[encoded data removed]",
      "text/plain": [
       "<Figure size 432x288 with 1 Axes>"
      ]
     },
     "metadata": {
      "needs_background": "light"
     },
     "output_type": "display_data"
    }
   ],
   "source": [
    "piping(train_matrix,test_matrix,3,train_label_positions,test_label_positions,dataset_to_predict,10.,10.,10,\"test.csv\")\n",
    "piping(train_matrix,test_matrix,3,train_label_positions,test_label_positions,dataset_to_predict,1.9952623149688795,42.986623470822764,10,\"test.csv\")"
   ]
  },
  {
   "cell_type": "code",
   "execution_count": null,
   "metadata": {},
   "outputs": [
    {
     "name": "stdout",
     "output_type": "stream",
     "text": [
      "iteration  0 lambda 1 10.0 lambda2  10.0 errors 0.9675685497424412   1.0018108032467203\n",
      "iteration  1 lambda 1 10.0 lambda2  10.0 errors 0.9460278229082807   0.9870320561451457\n",
      "iteration  2 lambda 1 10.0 lambda2  10.0 errors 0.9395263153721293   0.9832304182094713\n",
      "iteration  3 lambda 1 10.0 lambda2  10.0 errors 0.9354114241397906   0.9810643758602733\n",
      "iteration  4 lambda 1 10.0 lambda2  10.0 errors 0.9325470900458787   0.9792018277011539\n",
      "iteration  5 lambda 1 10.0 lambda2  10.0 errors 0.9304253924729508   0.9774535511440404\n",
      "iteration  6 lambda 1 10.0 lambda2  10.0 errors 0.9288221997984668   0.9759765373694531\n",
      "iteration  7 lambda 1 10.0 lambda2  10.0 errors 0.9276373687337086   0.9748718888565294\n",
      "iteration  8 lambda 1 10.0 lambda2  10.0 errors 0.9267946796561097   0.974122827885075\n",
      "iteration  9 lambda 1 10.0 lambda2  10.0 errors 0.926216507321817   0.9736497723318718\n",
      "iteration  10 lambda 1 10.0 lambda2  10.0 errors 0.9258292605910883   0.973364642669293\n",
      "iteration  11 lambda 1 10.0 lambda2  10.0 errors 0.9255720850881468   0.9731967404359176\n",
      "iteration  12 lambda 1 10.0 lambda2  10.0 errors 0.9254001087741152   0.9730977590361536\n",
      "iteration  13 lambda 1 10.0 lambda2  10.0 errors 0.9252828107232258   0.9730377541498911\n",
      "iteration  14 lambda 1 10.0 lambda2  10.0 errors 0.9252004575191378   0.9729993064404291\n",
      "iteration  15 lambda 1 10.0 lambda2  10.0 errors 0.9251406389353982   0.9729727171693111\n",
      "iteration  16 lambda 1 10.0 lambda2  10.0 errors 0.9250956367187363   0.9729527588500019\n",
      "iteration  17 lambda 1 10.0 lambda2  10.0 errors 0.925060647571294   0.9729366870415391\n",
      "iteration  18 lambda 1 10.0 lambda2  10.0 errors 0.9250326542966874   0.9729230930475188\n",
      "iteration  19 lambda 1 10.0 lambda2  10.0 errors 0.9250097309735229   0.9729112665120693\n",
      "iteration  20 lambda 1 10.0 lambda2  10.0 errors 0.9249906214490871   0.9729008511092687\n",
      "iteration  21 lambda 1 10.0 lambda2  10.0 errors 0.924974484712778   0.9728916631634897\n",
      "iteration  22 lambda 1 10.0 lambda2  10.0 errors 0.9249607407095822   0.9728835986944834\n",
      "iteration  23 lambda 1 10.0 lambda2  10.0 errors 0.9249489763234472   0.9728765874600052\n",
      "iteration  24 lambda 1 10.0 lambda2  10.0 errors 0.9249388874538487   0.972870571422967\n",
      "iteration  25 lambda 1 10.0 lambda2  10.0 errors 0.9249302428586954   0.9728654955516987\n",
      "iteration  26 lambda 1 10.0 lambda2  10.0 errors 0.9249228612321914   0.972861304591247\n",
      "iteration  27 lambda 1 10.0 lambda2  10.0 errors 0.9249165964157946   0.9728579425320761\n",
      "iteration  28 lambda 1 10.0 lambda2  10.0 errors 0.9249113276703661   0.9728553531441577\n",
      "iteration  29 lambda 1 10.0 lambda2  10.0 errors 0.9249069531434267   0.972853480802162\n",
      "iteration  0 lambda 1 1.9952623149688795 lambda2  42.986623470822764 errors 0.9782961939544426   1.0133839537903004\n",
      "iteration  1 lambda 1 1.9952623149688795 lambda2  42.986623470822764 errors 0.9366693545911043   0.9814709293707604\n",
      "iteration  2 lambda 1 1.9952623149688795 lambda2  42.986623470822764 errors 0.9305541919684133   0.9768267080841609\n",
      "iteration  3 lambda 1 1.9952623149688795 lambda2  42.986623470822764 errors 0.9278556061489245   0.9748717551646299\n",
      "iteration  4 lambda 1 1.9952623149688795 lambda2  42.986623470822764 errors 0.9264181105599623   0.9738947841252719\n",
      "iteration  5 lambda 1 1.9952623149688795 lambda2  42.986623470822764 errors 0.9255903104593393   0.9733784625377601\n",
      "iteration  6 lambda 1 1.9952623149688795 lambda2  42.986623470822764 errors 0.925097983395503   0.9731064191728865\n",
      "iteration  7 lambda 1 1.9952623149688795 lambda2  42.986623470822764 errors 0.9248020026358488   0.9729697637684028\n",
      "iteration  8 lambda 1 1.9952623149688795 lambda2  42.986623470822764 errors 0.924624023916712   0.9729084814189539\n",
      "iteration  9 lambda 1 1.9952623149688795 lambda2  42.986623470822764 errors 0.9245176528111605   0.972888406936939\n",
      "iteration  10 lambda 1 1.9952623149688795 lambda2  42.986623470822764 errors 0.9244548268090687   0.972889996595365\n",
      "iteration  11 lambda 1 1.9952623149688795 lambda2  42.986623470822764 errors 0.9244184375343558   0.972902159222603\n",
      "iteration  12 lambda 1 1.9952623149688795 lambda2  42.986623470822764 errors 0.9243980307409729   0.9729187081718825\n",
      "iteration  13 lambda 1 1.9952623149688795 lambda2  42.986623470822764 errors 0.9243872192858319   0.9729362933998594\n",
      "iteration  14 lambda 1 1.9952623149688795 lambda2  42.986623470822764 errors 0.9243821074197376   0.9729531931302543\n",
      "iteration  15 lambda 1 1.9952623149688795 lambda2  42.986623470822764 errors 0.9243803265136018   0.9729686082296182\n",
      "iteration  16 lambda 1 1.9952623149688795 lambda2  42.986623470822764 errors 0.9243804437306749   0.9729822510983251\n",
      "iteration  17 lambda 1 1.9952623149688795 lambda2  42.986623470822764 errors 0.9243815989908286   0.9729941072927695\n",
      "iteration  18 lambda 1 1.9952623149688795 lambda2  42.986623470822764 errors 0.9243832819559726   0.9730042985443595\n",
      "iteration  19 lambda 1 1.9952623149688795 lambda2  42.986623470822764 errors 0.9243851950250256   0.9730130052916962\n",
      "iteration  20 lambda 1 1.9952623149688795 lambda2  42.986623470822764 errors 0.9243871692256287   0.9730204240588851\n",
      "iteration  21 lambda 1 1.9952623149688795 lambda2  42.986623470822764 errors 0.9243891126658227   0.9730267451120195\n",
      "iteration  22 lambda 1 1.9952623149688795 lambda2  42.986623470822764 errors 0.9243909790346867   0.9730321417779862\n",
      "iteration  23 lambda 1 1.9952623149688795 lambda2  42.986623470822764 errors 0.9243927484443413   0.9730367663342427\n",
      "iteration  24 lambda 1 1.9952623149688795 lambda2  42.986623470822764 errors 0.9243944158599433   0.9730407494734296\n",
      "iteration  25 lambda 1 1.9952623149688795 lambda2  42.986623470822764 errors 0.9243959841845149   0.9730442015951405\n"
     ]
    }
   ],
   "source": [
    "piping(train_matrix,test_matrix,3,train_label_positions,test_label_positions,dataset_to_predict,10.,10.,30,\"test.csv\")\n",
    "piping(train_matrix,test_matrix,3,train_label_positions,test_label_positions,dataset_to_predict,1.9952623149688795,42.986623470822764,30,\"test.csv\")\n",
    "piping(train_matrix,test_matrix,3,train_label_positions,test_label_positions,dataset_to_predict,2.712272579332028,42.986623470822764,30,\"test.csv\")"
   ]
  },
  {
   "cell_type": "code",
   "execution_count": null,
   "metadata": {},
   "outputs": [],
   "source": [
    "piping(matrix,test_matrix,3,label_positions,test_label_positions,dataset_to_predict,10.,10.,30,\"aveMaria.csv\")"
   ]
  },
  {
   "cell_type": "code",
   "execution_count": null,
   "metadata": {
    "scrolled": true
   },
   "outputs": [
    {
     "name": "stdout",
     "output_type": "stream",
     "text": [
      "iteration  0 lambda 1 0.01 lambda2  0.01 errors 0.9547448734835797   0.9985097331980627\n",
      "iteration  1 lambda 1 0.01 lambda2  0.01 errors 0.9262715318042506   0.9853493771863209\n",
      "iteration  2 lambda 1 0.01 lambda2  0.01 errors 0.9224299485148422   0.9837752804939495\n",
      "iteration  3 lambda 1 0.01 lambda2  0.01 errors 0.9204715613362152   0.9825686367592072\n",
      "iteration  4 lambda 1 0.01 lambda2  0.01 errors 0.9194805958879771   0.9817889878802669\n",
      "iteration  5 lambda 1 0.01 lambda2  0.01 errors 0.9189895131540569   0.9813596605590348\n",
      "iteration  6 lambda 1 0.01 lambda2  0.01 errors 0.918746102546233   0.9811392828491715\n",
      "iteration  7 lambda 1 0.01 lambda2  0.01 errors 0.9186242055376314   0.9810284338791891\n",
      "iteration  8 lambda 1 0.01 lambda2  0.01 errors 0.9185624800587076   0.9809731438314554\n",
      "iteration  9 lambda 1 0.01 lambda2  0.01 errors 0.9185308514007205   0.9809448896137665\n",
      "iteration  0 lambda 1 0.01 lambda2  0.1 errors 0.9547471525694011   0.9985027272028145\n",
      "iteration  1 lambda 1 0.01 lambda2  0.1 errors 0.9262486775584393   0.9852795034578945\n",
      "iteration  2 lambda 1 0.01 lambda2  0.1 errors 0.9223990411210865   0.9836830913336198\n",
      "iteration  3 lambda 1 0.01 lambda2  0.1 errors 0.9204481128445821   0.9824771087913426\n",
      "iteration  4 lambda 1 0.01 lambda2  0.1 errors 0.9194666220039984   0.9817053413027307\n",
      "iteration  5 lambda 1 0.01 lambda2  0.1 errors 0.9189822024326793   0.9812831965624044\n",
      "iteration  6 lambda 1 0.01 lambda2  0.1 errors 0.918742779808909   0.9810674167641661\n",
      "iteration  7 lambda 1 0.01 lambda2  0.1 errors 0.9186231359592112   0.9809592478855765\n",
      "iteration  8 lambda 1 0.01 lambda2  0.1 errors 0.9185626444989848   0.9809054652267254\n",
      "iteration  9 lambda 1 0.01 lambda2  0.1 errors 0.9185316851759526   0.9808780005291451\n",
      "iteration  0 lambda 1 0.01 lambda2  1.0 errors 0.9548263190026078   0.9985298122105088\n",
      "iteration  1 lambda 1 0.01 lambda2  1.0 errors 0.9260937605566284   0.9846967520721421\n",
      "iteration  2 lambda 1 0.01 lambda2  1.0 errors 0.9221885920728533   0.9829001216224584\n",
      "iteration  3 lambda 1 0.01 lambda2  1.0 errors 0.9203081807413446   0.9816967325292487\n",
      "iteration  4 lambda 1 0.01 lambda2  1.0 errors 0.9194025398550105   0.9809896727884827\n",
      "iteration  5 lambda 1 0.01 lambda2  1.0 errors 0.918967708463343   0.9806295291777111\n",
      "iteration  6 lambda 1 0.01 lambda2  1.0 errors 0.9187562140699093   0.9804577090573726\n",
      "iteration  7 lambda 1 0.01 lambda2  1.0 errors 0.9186512848594955   0.9803798119095228\n",
      "iteration  8 lambda 1 0.01 lambda2  1.0 errors 0.9185981106347653   0.9803473397771427\n",
      "iteration  9 lambda 1 0.01 lambda2  1.0 errors 0.918570541505233   0.9803355901188703\n",
      "iteration  0 lambda 1 0.01 lambda2  10.0 errors 0.9581098616931735   1.0014033446425274\n",
      "iteration  1 lambda 1 0.01 lambda2  10.0 errors 0.9267689055472559   0.9832276114292745\n",
      "iteration  2 lambda 1 0.01 lambda2  10.0 errors 0.922631282400145   0.9805188312961549\n",
      "iteration  3 lambda 1 0.01 lambda2  10.0 errors 0.9209429773091284   0.9793359253845041\n",
      "iteration  4 lambda 1 0.01 lambda2  10.0 errors 0.92014922006501   0.9788539189197731\n",
      "iteration  5 lambda 1 0.01 lambda2  10.0 errors 0.9197296393093622   0.9787012592187331\n",
      "iteration  6 lambda 1 0.01 lambda2  10.0 errors 0.9194815495206954   0.97868952876391\n",
      "iteration  7 lambda 1 0.01 lambda2  10.0 errors 0.9193202151667434   0.9787384917940112\n",
      "iteration  8 lambda 1 0.01 lambda2  10.0 errors 0.9192067900723272   0.9788118791034043\n",
      "iteration  9 lambda 1 0.01 lambda2  10.0 errors 0.9191220190585525   0.978892814639902\n",
      "iteration  0 lambda 1 0.1 lambda2  0.01 errors 0.9547593341802341   0.9982566892726936\n",
      "iteration  1 lambda 1 0.1 lambda2  0.01 errors 0.9263961851584296   0.9853025823507219\n",
      "iteration  2 lambda 1 0.1 lambda2  0.01 errors 0.9225949222385578   0.9838087975948737\n",
      "iteration  3 lambda 1 0.1 lambda2  0.01 errors 0.9206221970960745   0.9826354484508323\n",
      "iteration  4 lambda 1 0.1 lambda2  0.01 errors 0.9195968631493469   0.9818583831585052\n",
      "iteration  5 lambda 1 0.1 lambda2  0.01 errors 0.9190746349391679   0.9814073340446214\n",
      "iteration  6 lambda 1 0.1 lambda2  0.01 errors 0.9188093730403192   0.9811633886812287\n",
      "iteration  7 lambda 1 0.1 lambda2  0.01 errors 0.9186734560257467   0.9810349299763297\n",
      "iteration  8 lambda 1 0.1 lambda2  0.01 errors 0.9186028128932328   0.980966836159971\n",
      "iteration  9 lambda 1 0.1 lambda2  0.01 errors 0.9185654133886052   0.98092919519855\n",
      "iteration  0 lambda 1 0.1 lambda2  0.1 errors 0.9547616119373353   0.9982499173359752\n",
      "iteration  1 lambda 1 0.1 lambda2  0.1 errors 0.926373164853869   0.985233019728596\n",
      "iteration  2 lambda 1 0.1 lambda2  0.1 errors 0.9225627693846472   0.9837157725744774\n",
      "iteration  3 lambda 1 0.1 lambda2  0.1 errors 0.9205966735977741   0.9825420241620969\n",
      "iteration  4 lambda 1 0.1 lambda2  0.1 errors 0.9195808194212804   0.9817718409147622\n",
      "iteration  5 lambda 1 0.1 lambda2  0.1 errors 0.9190656049485226   0.9813271970380997\n",
      "iteration  6 lambda 1 0.1 lambda2  0.1 errors 0.9188047051220956   0.9810872680616896\n",
      "iteration  7 lambda 1 0.1 lambda2  0.1 errors 0.9186713443504664   0.980960834716766\n",
      "iteration  8 lambda 1 0.1 lambda2  0.1 errors 0.9186021711107908   0.9808935014052643\n",
      "iteration  9 lambda 1 0.1 lambda2  0.1 errors 0.918565616221848   0.9808558948969088\n",
      "iteration  0 lambda 1 0.1 lambda2  1.0 errors 0.9548410801125622   0.9982796702469698\n",
      "iteration  1 lambda 1 0.1 lambda2  1.0 errors 0.926216780927406   0.9846532475844451\n",
      "iteration  2 lambda 1 0.1 lambda2  1.0 errors 0.9223414819232546   0.9829265934792929\n",
      "iteration  3 lambda 1 0.1 lambda2  1.0 errors 0.920440020605612   0.9817469718458913\n",
      "iteration  4 lambda 1 0.1 lambda2  1.0 errors 0.9195009888418826   0.981033604467898\n",
      "iteration  5 lambda 1 0.1 lambda2  1.0 errors 0.9190386096456318   0.9806448900100422\n",
      "iteration  6 lambda 1 0.1 lambda2  1.0 errors 0.9188089252507577   0.9804447290225781\n",
      "iteration  7 lambda 1 0.1 lambda2  1.0 errors 0.9186929318199403   0.980344228210015\n",
      "iteration  8 lambda 1 0.1 lambda2  1.0 errors 0.9186331130984855   0.9802937279084433\n",
      "iteration  9 lambda 1 0.1 lambda2  1.0 errors 0.9186014532381722   0.9802673958112852\n",
      "iteration  0 lambda 1 0.1 lambda2  10.0 errors 0.958137159948006   1.001190191895988\n",
      "iteration  1 lambda 1 0.1 lambda2  10.0 errors 0.9268864650836914   0.9831989403085512\n",
      "iteration  2 lambda 1 0.1 lambda2  10.0 errors 0.9227416939624603   0.9805147402363632\n",
      "iteration  3 lambda 1 0.1 lambda2  10.0 errors 0.921027119036274   0.9793148736649622\n",
      "iteration  4 lambda 1 0.1 lambda2  10.0 errors 0.9202127973741301   0.9787947948763345\n",
      "iteration  5 lambda 1 0.1 lambda2  10.0 errors 0.9197806343822891   0.9785951112750778\n",
      "iteration  6 lambda 1 0.1 lambda2  10.0 errors 0.9195270570373879   0.9785439375287797\n",
      "iteration  7 lambda 1 0.1 lambda2  10.0 errors 0.9193640566544353   0.9785602937271192\n",
      "iteration  8 lambda 1 0.1 lambda2  10.0 errors 0.9192508430282769   0.9786054975185802\n",
      "iteration  9 lambda 1 0.1 lambda2  10.0 errors 0.9191672019227887   0.9786611300323628\n",
      "iteration  0 lambda 1 1.0 lambda2  0.01 errors 0.955121160195443   0.9975533217547456\n",
      "iteration  1 lambda 1 1.0 lambda2  0.01 errors 0.928279670901871   0.9855496641920147\n",
      "iteration  2 lambda 1 1.0 lambda2  0.01 errors 0.9250131307412615   0.9849548138866716\n",
      "iteration  3 lambda 1 1.0 lambda2  0.01 errors 0.9230853659545919   0.9842276559390108\n",
      "iteration  4 lambda 1 1.0 lambda2  0.01 errors 0.9217784280453905   0.9835150104017434\n",
      "iteration  5 lambda 1 1.0 lambda2  0.01 errors 0.9208846492500736   0.9829110645498649\n",
      "iteration  6 lambda 1 1.0 lambda2  0.01 errors 0.9202797341732241   0.982438706708005\n",
      "iteration  7 lambda 1 1.0 lambda2  0.01 errors 0.9198705600131175   0.9820846700196835\n",
      "iteration  8 lambda 1 1.0 lambda2  0.01 errors 0.9195902952026935   0.9818228313097244\n",
      "iteration  9 lambda 1 1.0 lambda2  0.01 errors 0.919393806147432   0.981627242497002\n",
      "iteration  0 lambda 1 1.0 lambda2  0.1 errors 0.9551234254096184   0.9975476438062817\n",
      "iteration  1 lambda 1 1.0 lambda2  0.1 errors 0.9282554138638845   0.9854864488220038\n"
     ]
    }
   ],
   "source": [
    "#iteration  4 lambda 1 1.9952623149688795 lambda2  42.986623470822764 errors 0.9264181105599623 \n",
    "iteration  4 lambda 1 2.712272579332028 lambda2  42.986623470822764 errors 0.9279818435374766   0.974241222880232\n",
    "for lambda_1 in np.logspace(-2,1,4):\n",
    "    for lambda_2 in np.logspace(-2,1,4):\n",
    "\n",
    "        piping(train_matrix,test_matrix,3,train_label_positions,test_label_positions,dataset_to_predict,1.9952623149688795,42.986623470822764,10,\"test.csv\")"
   ]
  },
  {
   "cell_type": "code",
   "execution_count": 17,
   "metadata": {},
   "outputs": [
    {
     "data": {
      "image/png": "[encoded data removed]",
      "text/plain": [
       "<Figure size 432x288 with 1 Axes>"
      ]
     },
     "metadata": {
      "needs_background": "light"
     },
     "output_type": "display_data"
    }
   ],
   "source": [
    "piping(matrix,4,label_positions,dataset_to_predict,5.,10,\"10pass4feat_lambda5Dot.csv\")"
   ]
  },
  {
   "cell_type": "code",
   "execution_count": 18,
   "metadata": {},
   "outputs": [
    {
     "data": {
      "image/png": "[encoded data removed]",
      "text/plain": [
       "<Figure size 432x288 with 1 Axes>"
      ]
     },
     "metadata": {
      "needs_background": "light"
     },
     "output_type": "display_data"
    }
   ],
   "source": [
    "piping(matrix,3,label_positions,dataset_to_predict,5.,10,\"10pass3feat_lambda5Dot.csv\")"
   ]
  },
  {
   "cell_type": "code",
   "execution_count": 19,
   "metadata": {},
   "outputs": [
    {
     "data": {
      "image/png": "[encoded data removed]",
      "text/plain": [
       "<Figure size 432x288 with 1 Axes>"
      ]
     },
     "metadata": {
      "needs_background": "light"
     },
     "output_type": "display_data"
    }
   ],
   "source": [
    "piping(matrix,6,label_positions,dataset_to_predict,5.,10,\"10pass6feat_lambda5Dot.csv\")"
   ]
  },
  {
   "cell_type": "code",
   "execution_count": 17,
   "metadata": {},
   "outputs": [
    {
     "name": "stdout",
     "output_type": "stream",
     "text": [
      "CPU times: user 5h 22min 38s, sys: 2h 3min, total: 7h 25min 38s\n",
      "Wall time: 2h 6min 35s\n"
     ]
    },
    {
     "data": {
      "image/png": "[encoded data removed]",
      "text/plain": [
       "<Figure size 432x288 with 1 Axes>"
      ]
     },
     "metadata": {
      "needs_background": "light"
     },
     "output_type": "display_data"
    }
   ],
   "source": [
    "%%time\n",
    "piping(matrix,4,label_positions,dataset_to_predict,.1,10,\"10pass4feat_lambdaDot1.csv\")"
   ]
  },
  {
   "cell_type": "code",
   "execution_count": 18,
   "metadata": {},
   "outputs": [
    {
     "data": {
      "image/png": "[encoded data removed]",
      "text/plain": [
       "<Figure size 432x288 with 1 Axes>"
      ]
     },
     "metadata": {
      "needs_background": "light"
     },
     "output_type": "display_data"
    }
   ],
   "source": [
    "piping(matrix,4,label_positions,dataset_to_predict,1.,10,\"10pass4feat_lambda1Dot.csv\")"
   ]
  },
  {
   "cell_type": "code",
   "execution_count": 19,
   "metadata": {},
   "outputs": [
    {
     "data": {
      "image/png": "[encoded data removed]",
      "text/plain": [
       "<Figure size 432x288 with 1 Axes>"
      ]
     },
     "metadata": {
      "needs_background": "light"
     },
     "output_type": "display_data"
    }
   ],
   "source": [
    "piping(matrix,4,label_positions,dataset_to_predict,10.,10,\"10pass3feat_lambda10Dot.csv\")"
   ]
  },
  {
   "cell_type": "code",
   "execution_count": 17,
   "metadata": {},
   "outputs": [
    {
     "data": {
      "image/png": "[encoded data removed]",
      "text/plain": [
       "<Figure size 432x288 with 1 Axes>"
      ]
     },
     "metadata": {
      "needs_background": "light"
     },
     "output_type": "display_data"
    }
   ],
   "source": [
    "piping(matrix,3,label_positions,dataset_to_predict,1.,10,\"10pass3feat_lambda1Dot.csv\")"
   ]
  },
  {
   "cell_type": "code",
   "execution_count": 18,
   "metadata": {},
   "outputs": [
    {
     "data": {
      "image/png": "[encoded data removed]",
      "text/plain": [
       "<Figure size 432x288 with 1 Axes>"
      ]
     },
     "metadata": {
      "needs_background": "light"
     },
     "output_type": "display_data"
    }
   ],
   "source": [
    "piping(matrix,3,label_positions,dataset_to_predict,10.,10,\"10pass3feat_lambda10Dot.csv\")"
   ]
  },
  {
   "cell_type": "markdown",
   "metadata": {},
   "source": [
    "## studies on small matrix"
   ]
  },
  {
   "cell_type": "code",
   "execution_count": 245,
   "metadata": {},
   "outputs": [
    {
     "name": "stdout",
     "output_type": "stream",
     "text": [
      "[[ 1.45580721e+00  1.93264315e+00  2.01068789e+00]\n",
      " [ 4.05285407e+00 -2.44543593e-03  5.96408235e+00]\n",
      " [ 6.64903407e+00  8.01623839e+00  9.23850332e+00]]\n"
     ]
    }
   ],
   "source": [
    "study_matrix=np.array([[0,2,3],[4,0,6],[7,8,9]])\n",
    "study_label=study_matrix>0\n",
    "#smart iinitialization\n",
    "A,B,C=np.linalg.svd(study_matrix,full_matrices=False)\n",
    "nb_feature=2\n",
    "B_reduced=np.sqrt(np.diag(B[:nb_feature]))\n",
    "\n",
    "X=A[:,:nb_feature].dot(B_reduced)\n",
    "Y=B_reduced.dot(C[:nb_feature,:])\n",
    "print(X.dot(Y))"
   ]
  },
  {
   "cell_type": "code",
   "execution_count": 246,
   "metadata": {},
   "outputs": [
    {
     "name": "stdout",
     "output_type": "stream",
     "text": [
      "percent done\n",
      "percent done\n",
      "[[False  True  True]\n",
      " [ True False  True]\n",
      " [ True  True  True]]\n"
     ]
    }
   ],
   "source": [
    "X_new,Y_new=ALS(X,Y,study_matrix,study_label,lambda_=.01)\n",
    "print(study_label)"
   ]
  },
  {
   "cell_type": "code",
   "execution_count": 249,
   "metadata": {},
   "outputs": [
    {
     "name": "stdout",
     "output_type": "stream",
     "text": [
      "percent done\n",
      "percent done\n",
      "percent done\n",
      "percent done\n",
      "percent done\n",
      "percent done\n",
      "percent done\n",
      "percent done\n",
      "percent done\n",
      "percent done\n",
      "percent done\n",
      "percent done\n",
      "percent done\n",
      "percent done\n",
      "percent done\n",
      "percent done\n",
      "percent done\n",
      "percent done\n",
      "percent done\n",
      "percent done\n",
      "percent done\n",
      "percent done\n",
      "percent done\n",
      "percent done\n",
      "percent done\n",
      "percent done\n",
      "percent done\n",
      "percent done\n",
      "percent done\n",
      "percent done\n",
      "percent done\n",
      "percent done\n",
      "percent done\n",
      "percent done\n",
      "percent done\n",
      "percent done\n",
      "percent done\n",
      "percent done\n",
      "percent done\n",
      "percent done\n",
      "percent done\n",
      "percent done\n",
      "percent done\n",
      "percent done\n",
      "percent done\n",
      "percent done\n",
      "percent done\n",
      "percent done\n",
      "percent done\n",
      "percent done\n",
      "percent done\n",
      "percent done\n",
      "percent done\n",
      "percent done\n",
      "percent done\n",
      "percent done\n",
      "percent done\n",
      "percent done\n",
      "percent done\n",
      "percent done\n",
      "percent done\n",
      "percent done\n",
      "percent done\n",
      "percent done\n",
      "percent done\n",
      "percent done\n",
      "percent done\n",
      "percent done\n",
      "percent done\n",
      "percent done\n",
      "percent done\n",
      "percent done\n",
      "percent done\n",
      "percent done\n",
      "percent done\n",
      "percent done\n",
      "percent done\n",
      "percent done\n",
      "percent done\n",
      "percent done\n",
      "percent done\n",
      "percent done\n",
      "percent done\n",
      "percent done\n",
      "percent done\n",
      "percent done\n",
      "percent done\n",
      "percent done\n",
      "percent done\n",
      "percent done\n",
      "percent done\n",
      "percent done\n",
      "percent done\n",
      "percent done\n",
      "percent done\n",
      "percent done\n",
      "percent done\n",
      "percent done\n",
      "percent done\n",
      "percent done\n",
      "percent done\n",
      "percent done\n",
      "percent done\n",
      "percent done\n",
      "percent done\n",
      "percent done\n",
      "percent done\n",
      "percent done\n",
      "percent done\n",
      "percent done\n",
      "percent done\n",
      "percent done\n",
      "percent done\n",
      "percent done\n",
      "percent done\n",
      "percent done\n",
      "percent done\n",
      "percent done\n",
      "percent done\n",
      "percent done\n",
      "percent done\n",
      "percent done\n",
      "percent done\n",
      "percent done\n",
      "percent done\n",
      "percent done\n",
      "percent done\n",
      "percent done\n",
      "percent done\n",
      "percent done\n",
      "percent done\n",
      "percent done\n",
      "percent done\n",
      "percent done\n",
      "percent done\n",
      "percent done\n",
      "percent done\n",
      "percent done\n",
      "percent done\n",
      "percent done\n",
      "percent done\n",
      "percent done\n",
      "percent done\n",
      "percent done\n",
      "percent done\n",
      "percent done\n",
      "percent done\n",
      "percent done\n",
      "percent done\n",
      "percent done\n",
      "percent done\n",
      "percent done\n",
      "percent done\n",
      "percent done\n",
      "percent done\n",
      "percent done\n",
      "percent done\n",
      "percent done\n",
      "percent done\n",
      "percent done\n",
      "percent done\n",
      "percent done\n",
      "percent done\n",
      "percent done\n",
      "percent done\n",
      "percent done\n",
      "percent done\n",
      "percent done\n",
      "percent done\n",
      "percent done\n",
      "percent done\n",
      "percent done\n",
      "percent done\n",
      "percent done\n",
      "percent done\n",
      "percent done\n",
      "percent done\n",
      "percent done\n",
      "percent done\n",
      "percent done\n",
      "percent done\n",
      "percent done\n",
      "percent done\n",
      "percent done\n",
      "percent done\n",
      "percent done\n",
      "percent done\n",
      "percent done\n",
      "percent done\n",
      "percent done\n",
      "percent done\n",
      "percent done\n",
      "percent done\n",
      "percent done\n",
      "percent done\n",
      "percent done\n",
      "percent done\n",
      "percent done\n",
      "percent done\n",
      "percent done\n",
      "[[1.82923606 2.02659917 2.94194422]\n",
      " [4.00547392 4.49505162 5.92036101]\n",
      " [6.93740268 7.9250244  8.98488875]]\n"
     ]
    },
    {
     "data": {
      "image/png": "[encoded data removed]",
      "text/plain": [
       "<Figure size 432x288 with 1 Axes>"
      ]
     },
     "metadata": {
      "needs_background": "light"
     },
     "output_type": "display_data"
    }
   ],
   "source": [
    "X_old=X.copy()\n",
    "Y_old=Y.copy()\n",
    "error=[]\n",
    "for i in range(100):\n",
    "    X_new,Y_new=ALS(X_old,Y_old,study_matrix,study_label,lambda_=.1)\n",
    "    #print(X_new.dot(Y_new)\n",
    "    X_old=X_new.copy()\n",
    "    Y_old=Y_new.copy()\n",
    "    error.append(compute_error(X_new,Y_new,study_matrix,study_label))\n",
    "plt.plot(error)\n",
    "print(X_old.dot(Y_old))"
   ]
  },
  {
   "cell_type": "code",
   "execution_count": 158,
   "metadata": {
    "scrolled": true
   },
   "outputs": [
    {
     "name": "stdout",
     "output_type": "stream",
     "text": [
      "percent done\n",
      "percent done\n",
      "[[-1.10684842  2.00138817  2.99304408]\n",
      " [ 3.77603079  1.07015564  5.98995107]\n",
      " [ 7.11638927  0.8960582   8.98976896]]\n",
      "percent done\n",
      "percent done\n",
      "[[0.04126691 1.97702348 3.00246583]\n",
      " [4.16101385 0.94561267 5.99832886]\n",
      " [6.90551976 0.93021356 8.99878779]]\n",
      "percent done\n",
      "percent done\n",
      "[[-0.82483707  2.00124432  2.99259745]\n",
      " [ 3.81052961  1.08583997  5.99036155]\n",
      " [ 7.0912223   0.89668332  8.99188542]]\n",
      "percent done\n",
      "percent done\n",
      "[[0.11036948 1.97731763 3.0030274 ]\n",
      " [4.14403434 0.97700731 5.99741552]\n",
      " [6.91836703 0.93437289 8.99733359]]\n",
      "percent done\n",
      "percent done\n",
      "[[-0.6096168   2.00101594  2.99208888]\n",
      " [ 3.83557188  1.10827919  5.99101507]\n",
      " [ 7.07258939  0.91012477  8.99362216]]\n",
      "percent done\n",
      "percent done\n",
      "[[0.17245439 1.97760403 3.00358078]\n",
      " [4.13038456 1.006145   5.99660979]\n",
      " [6.92895217 0.94008689 8.99600422]]\n",
      "percent done\n",
      "percent done\n",
      "[[-0.43822768  2.00079254  2.99159074]\n",
      " [ 3.85468962  1.13016487  5.99157585]\n",
      " [ 7.05811083  0.92400719  8.99520696]]\n",
      "percent done\n",
      "percent done\n",
      "[[0.22861877 1.97788288 3.00412492]\n",
      " [4.11914219 1.0335839  5.99589899]\n",
      " [6.93787013 0.94708505 8.99478294]]\n",
      "percent done\n",
      "percent done\n",
      "[[-0.29754157  2.00057398  2.99110331]\n",
      " [ 3.86978356  1.15154142  5.99205655]\n",
      " [ 7.04649208  0.93827976  8.99665838]]\n",
      "percent done\n",
      "percent done\n",
      "[[0.27973408 1.97815443 3.00465932]\n",
      " [4.10971122 1.05965876 5.9952709 ]\n",
      " [6.9455073  0.9551376  8.99365838]]\n"
     ]
    }
   ],
   "source": [
    "X_new=X\n",
    "Y_new=Y\n",
    "for i in range(10):\n",
    "    X_new,Y_new=ALS2(X_new,Y_new,study_matrix,study_label,lambda_=.01)\n",
    "    print(X_new.dot(Y_new))"
   ]
  },
  {
   "cell_type": "code",
   "execution_count": 130,
   "metadata": {},
   "outputs": [
    {
     "name": "stdout",
     "output_type": "stream",
     "text": [
      "percent done\n",
      "percent done\n",
      "percent done\n",
      "percent done\n",
      "percent done\n",
      "percent done\n",
      "percent done\n",
      "percent done\n",
      "percent done\n",
      "percent done\n",
      "percent done\n",
      "percent done\n",
      "percent done\n",
      "percent done\n",
      "percent done\n",
      "percent done\n",
      "percent done\n",
      "percent done\n",
      "percent done\n",
      "percent done\n",
      "percent done\n",
      "percent done\n",
      "percent done\n",
      "percent done\n",
      "percent done\n",
      "percent done\n",
      "percent done\n",
      "percent done\n",
      "percent done\n",
      "percent done\n",
      "percent done\n",
      "percent done\n",
      "percent done\n",
      "percent done\n",
      "percent done\n",
      "percent done\n",
      "percent done\n",
      "percent done\n",
      "percent done\n",
      "percent done\n",
      "percent done\n",
      "percent done\n",
      "percent done\n",
      "percent done\n",
      "percent done\n",
      "percent done\n",
      "percent done\n",
      "percent done\n",
      "percent done\n",
      "percent done\n",
      "percent done\n",
      "percent done\n",
      "percent done\n",
      "percent done\n",
      "percent done\n",
      "percent done\n",
      "percent done\n",
      "percent done\n",
      "percent done\n",
      "percent done\n",
      "percent done\n",
      "percent done\n",
      "percent done\n",
      "percent done\n",
      "percent done\n",
      "percent done\n",
      "percent done\n",
      "percent done\n",
      "percent done\n",
      "percent done\n",
      "percent done\n",
      "percent done\n",
      "percent done\n",
      "percent done\n",
      "percent done\n",
      "percent done\n",
      "percent done\n",
      "percent done\n",
      "percent done\n",
      "percent done\n",
      "percent done\n",
      "percent done\n",
      "percent done\n",
      "percent done\n",
      "percent done\n",
      "percent done\n",
      "percent done\n",
      "percent done\n",
      "percent done\n",
      "percent done\n",
      "percent done\n",
      "percent done\n",
      "percent done\n",
      "percent done\n",
      "percent done\n",
      "percent done\n",
      "percent done\n",
      "percent done\n",
      "percent done\n",
      "percent done\n",
      "percent done\n",
      "percent done\n",
      "percent done\n",
      "percent done\n",
      "percent done\n",
      "percent done\n",
      "percent done\n",
      "percent done\n",
      "percent done\n",
      "percent done\n",
      "percent done\n",
      "percent done\n",
      "percent done\n",
      "percent done\n",
      "percent done\n",
      "percent done\n",
      "percent done\n",
      "percent done\n",
      "percent done\n",
      "percent done\n",
      "percent done\n",
      "percent done\n",
      "percent done\n",
      "percent done\n",
      "percent done\n",
      "percent done\n",
      "percent done\n",
      "percent done\n",
      "percent done\n",
      "percent done\n",
      "percent done\n",
      "percent done\n",
      "percent done\n",
      "percent done\n",
      "percent done\n",
      "percent done\n",
      "percent done\n",
      "percent done\n",
      "percent done\n",
      "percent done\n",
      "percent done\n",
      "percent done\n",
      "percent done\n",
      "percent done\n",
      "percent done\n",
      "percent done\n",
      "percent done\n",
      "percent done\n",
      "percent done\n",
      "percent done\n",
      "percent done\n",
      "percent done\n",
      "percent done\n",
      "percent done\n",
      "percent done\n",
      "percent done\n",
      "percent done\n",
      "percent done\n",
      "percent done\n",
      "percent done\n",
      "percent done\n",
      "percent done\n",
      "percent done\n",
      "percent done\n",
      "percent done\n",
      "percent done\n",
      "percent done\n",
      "percent done\n",
      "percent done\n",
      "percent done\n",
      "percent done\n",
      "percent done\n",
      "percent done\n",
      "percent done\n",
      "percent done\n",
      "percent done\n",
      "percent done\n",
      "percent done\n",
      "percent done\n",
      "percent done\n",
      "percent done\n",
      "percent done\n",
      "percent done\n",
      "percent done\n",
      "percent done\n",
      "percent done\n",
      "percent done\n",
      "percent done\n",
      "percent done\n",
      "percent done\n",
      "percent done\n",
      "percent done\n",
      "percent done\n",
      "percent done\n",
      "percent done\n",
      "percent done\n",
      "percent done\n",
      "percent done\n",
      "percent done\n",
      "percent done\n",
      "CPU times: user 58min 11s, sys: 14min 42s, total: 1h 12min 54s\n",
      "Wall time: 20min 34s\n"
     ]
    }
   ],
   "source": [
    "%%time\n",
    "Xnew,Ynew=ALS(X,Y,matrix,label_positions)"
   ]
  },
  {
   "cell_type": "code",
   "execution_count": 133,
   "metadata": {},
   "outputs": [
    {
     "data": {
      "text/plain": [
       "3.6439731618617217"
      ]
     },
     "execution_count": 133,
     "metadata": {},
     "output_type": "execute_result"
    }
   ],
   "source": [
    "compute_error(Xnew,Ynew,matrix,label_positions)"
   ]
  },
  {
   "cell_type": "markdown",
   "metadata": {},
   "source": [
    "## Found on\n",
    "https://bugra.github.io/work/notes/2014-04-19/alternating-least-squares-method-for-collaborative-filtering/"
   ]
  },
  {
   "cell_type": "code",
   "execution_count": null,
   "metadata": {},
   "outputs": [],
   "source": []
  }
 ],
 "metadata": {
  "kernelspec": {
   "display_name": "Python 3",
   "language": "python",
   "name": "python3"
  },
  "language_info": {
   "codemirror_mode": {
    "name": "ipython",
    "version": 3
   },
   "file_extension": ".py",
   "mimetype": "text/x-python",
   "name": "python",
   "nbconvert_exporter": "python",
   "pygments_lexer": "ipython3",
   "version": "3.5.2"
  }
 },
 "nbformat": 4,
 "nbformat_minor": 2
}
